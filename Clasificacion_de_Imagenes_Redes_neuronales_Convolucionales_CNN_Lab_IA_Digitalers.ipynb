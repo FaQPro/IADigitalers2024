{
  "nbformat": 4,
  "nbformat_minor": 0,
  "metadata": {
    "colab": {
      "provenance": [],
      "gpuType": "T4"
    },
    "kernelspec": {
      "name": "python3",
      "display_name": "Python 3"
    },
    "language_info": {
      "name": "python"
    },
    "accelerator": "GPU"
  },
  "cells": [
    {
      "cell_type": "markdown",
      "source": [
        "Vamos a Clasificar Imagenes de ropa y prendas de vestir de un Dataset de fashon minst de Tensorflow que trae imagenes de remeras, pantalones, carteras, zapatillas, botas, bolsos entre otros para entrenar nuestro modelo"
      ],
      "metadata": {
        "id": "3tpvOAVLUpnb"
      }
    },
    {
      "cell_type": "code",
      "execution_count": 1,
      "metadata": {
        "id": "EJSyq-TcUK2L"
      },
      "outputs": [],
      "source": [
        "import tensorflow as tf\n",
        "import numpy as np\n",
        "import matplotlib.pyplot as plt"
      ]
    },
    {
      "cell_type": "code",
      "source": [
        "fminst = tf.keras.datasets.fashion_mnist"
      ],
      "metadata": {
        "id": "e6ZnJC55e6_z"
      },
      "execution_count": 2,
      "outputs": []
    },
    {
      "cell_type": "code",
      "source": [
        "(X_train, y_train), (X_test, y_test) = fminst.load_data()"
      ],
      "metadata": {
        "colab": {
          "base_uri": "https://localhost:8080/"
        },
        "id": "8wPYIWZIVtHq",
        "outputId": "1a17fd63-e347-48f1-88bf-50cecbea2667"
      },
      "execution_count": 3,
      "outputs": [
        {
          "output_type": "stream",
          "name": "stdout",
          "text": [
            "Downloading data from https://storage.googleapis.com/tensorflow/tf-keras-datasets/train-labels-idx1-ubyte.gz\n",
            "\u001b[1m29515/29515\u001b[0m \u001b[32m━━━━━━━━━━━━━━━━━━━━\u001b[0m\u001b[37m\u001b[0m \u001b[1m0s\u001b[0m 0us/step\n",
            "Downloading data from https://storage.googleapis.com/tensorflow/tf-keras-datasets/train-images-idx3-ubyte.gz\n",
            "\u001b[1m26421880/26421880\u001b[0m \u001b[32m━━━━━━━━━━━━━━━━━━━━\u001b[0m\u001b[37m\u001b[0m \u001b[1m0s\u001b[0m 0us/step\n",
            "Downloading data from https://storage.googleapis.com/tensorflow/tf-keras-datasets/t10k-labels-idx1-ubyte.gz\n",
            "\u001b[1m5148/5148\u001b[0m \u001b[32m━━━━━━━━━━━━━━━━━━━━\u001b[0m\u001b[37m\u001b[0m \u001b[1m0s\u001b[0m 0us/step\n",
            "Downloading data from https://storage.googleapis.com/tensorflow/tf-keras-datasets/t10k-images-idx3-ubyte.gz\n",
            "\u001b[1m4422102/4422102\u001b[0m \u001b[32m━━━━━━━━━━━━━━━━━━━━\u001b[0m\u001b[37m\u001b[0m \u001b[1m0s\u001b[0m 0us/step\n"
          ]
        }
      ]
    },
    {
      "cell_type": "code",
      "source": [
        "imagen = 24\n",
        "\n",
        "labels = {\n",
        "    0: \"Remera\",\n",
        "    1: \"Pantalones\",\n",
        "    2: \"Sueters\",\n",
        "    3: \"Vestidos\",\n",
        "    4: \"Abrigo\",\n",
        "    5: \"Sandalias\",\n",
        "    6: \"Camisas\",\n",
        "    7: \"Zapatillas\",\n",
        "    8: \"Bolso\",\n",
        "    9: \"Botas\"\n",
        "}\n",
        "\n",
        "np.set_printoptions(linewidth=320)\n",
        "print(X_train[imagen])\n",
        "print(\"Label \" + labels[y_train[imagen]])\n",
        "\n",
        "plt.imshow(X_train[imagen])\n",
        "plt.colorbar()\n",
        "plt.show()"
      ],
      "metadata": {
        "colab": {
          "base_uri": "https://localhost:8080/",
          "height": 933
        },
        "id": "aQLnKj9BWQVZ",
        "outputId": "1e9ab50d-7ce1-42f4-d990-fa2e5c7a2274"
      },
      "execution_count": 4,
      "outputs": [
        {
          "output_type": "stream",
          "name": "stdout",
          "text": [
            "[[  0   0   0   0   0   0   0   0   0   0  90 156 177 182 196 176 117   0   0   0   0   0   0   0   0   0   0   0]\n",
            " [  0   0   0   0   0   0   2   0   0 239 253 239 214 226 214 231 245 248   0   0   1   0   0   0   0   0   0   0]\n",
            " [  0   0   0   0   0   0   0   0  36 241 203 219 192 190 193 207 200 232 135   0   0   2   0   0   0   0   0   0]\n",
            " [  0   0   0   0   1   0   0  33 167 227 229 234 228 234 244 215 211 214 208 120   0   0   2   0   0   0   0   0]\n",
            " [  0   0   0   0   0   0 157 227 207 207 229 229 232 207 241 227 235 224 203 221 176   0   0   2   0   0   0   0]\n",
            " [  0   0   0   0   0  65 218 189 192 187 196 189 188 202 181 195 222 219 190 180 217 125   0   0   0   0   0   0]\n",
            " [  0   0   0   0   0 158 213 196 196 191 188 186 179 192 177 192 126 155 193 189 200 166   0   0   0   0   0   0]\n",
            " [  0   0   0   0   0 163 217 211 176 188 188 186 183 196 180 191 165 170 216 204 200 195   0   0   0   0   0   0]\n",
            " [  0   0   0   0   0 183 215 234 185 182 186 183 184 198 181 185 195 188 203 245 207 209  37   0   0   0   0   0]\n",
            " [  0   0   0   0   0 196 215 240 209 188 183 186 186 190 186 188 188 183 212 253 205 217  64   0   0   0   0   0]\n",
            " [  0   0   0   0   0 235 213 246 209 190 190 195 194 192 192 192 196 189 209 252 206 217 109   0   0   0   0   0]\n",
            " [  0   0   0   0  18 246 209 253 212 201 209 195 202 204 203 206 207 201 214 251 205 216 160   0   0   0   0   0]\n",
            " [  0   0   0   0  48 249 208 253 217 196 197 191 195 193 194 196 196 194 214 247 206 216 189   0   0   0   0   0]\n",
            " [  0   0   0   0  71 244 206 255 216 195 196 194 197 196 196 195 203 197 197 238 216 215 184   0   0   0   0   0]\n",
            " [  0   0   0   0  91 248 206 255 211 194 197 193 196 195 195 195 199 201 191 247 217 214 198   0   0   0   0   0]\n",
            " [  0   0   0   0 109 224 206 237 187 195 198 193 197 195 194 194 197 203 197 193 211 217 215   0   0   0   0   0]\n",
            " [  0   0   0   0 118 230 205 222 166 204 195 195 198 196 193 192 196 200 206 161 207 219 220   0   0   0   0   0]\n",
            " [  0   0   0   0 110 234 210 183 147 217 189 193 197 197 194 191 194 198 212 136 213 221 220   5   0   0   0   0]\n",
            " [  0   0   0   0 109 239 209 167 146 219 186 192 196 198 194 191 192 195 223 117 206 227 219  31   0   0   0   0]\n",
            " [  0   0   0   0 105 241 212 142 146 218 182 191 193 196 196 192 190 190 232 100 166 238 218  48   0   0   0   0]\n",
            " [  0   0   0   0  99 240 219 115 152 212 180 190 191 192 198 195 187 185 235  99 133 244 216  63   0   0   0   0]\n",
            " [  0   0   0   0  95 238 225  86 163 203 181 188 190 191 195 195 189 181 226 112 133 245 216  83   0   0   0   0]\n",
            " [  0   0   0   0 102 238 228  79 165 198 182 186 189 192 192 191 191 182 217 113 131 250 209  95   0   0   0   0]\n",
            " [  0   0   0   0 113 234 239 103 155 199 182 187 191 192 191 190 191 183 212 130 128 243 203 103   0   0   0   0]\n",
            " [  0   0   0   0 114 220 251 106 144 187 180 184 187 188 187 186 185 183 190 144 103 236 202 110   0   0   0   0]\n",
            " [  0   0   0   0 114 208 252  71 176 202 195 198 202 202 201 201 201 197 202 178  81 233 205 116   0   0   0   0]\n",
            " [  0   0   0   0 109 238 255  38 105 166 156 159 161 162 159 156 156 155 170 112  44 241 224 136   0   0   0   0]\n",
            " [  0   0   0   0  33 177 179  16   0   0   0   0   0   0   0   0   0   0   0   0   0 163 165  53   0   0   0   0]]\n",
            "Label Abrigo\n"
          ]
        },
        {
          "output_type": "display_data",
          "data": {
            "text/plain": [
              "<Figure size 640x480 with 2 Axes>"
            ],
            "image/png": "[encoded data removed]"
          },
          "metadata": {}
        }
      ]
    },
    {
      "cell_type": "markdown",
      "source": [
        "* Las imagenes tienen un tamaño de 28x28\n",
        "* Cada pixel es un valor entre 0 y 255\n",
        "* Los datos no estan normalizados (Las redes neuronales funcionan mejor con datos normalizados)\n",
        "* Hay 10 labels\n",
        "  * 0 - Remera\n",
        "  * 1 - Pantaloes\n",
        "  * 2 - Sueters\n",
        "  * 3 - Vestidos\n",
        "  * 4 - Abrigo\n",
        "  * 5 - Santalias\n",
        "  * 6 - Camisas\n",
        "  * 7 - Zapatillas\n",
        "  * 8 - Bolso\n",
        "  * 9 - Botas"
      ],
      "metadata": {
        "id": "Gf3682_mWm3G"
      }
    },
    {
      "cell_type": "code",
      "source": [
        "# Normalizamos los datos\n",
        "X_train = X_train / 255.0\n",
        "X_test = X_test / 255.0\n",
        "#Convierte cada pixel en un valor entre 0 y 1 para mejorar la prediccion del modelo"
      ],
      "metadata": {
        "id": "BAEHzyjyWuQx"
      },
      "execution_count": 5,
      "outputs": []
    },
    {
      "cell_type": "code",
      "source": [
        "modelo_v1 = tf.keras.models.Sequential([\n",
        "    tf.keras.Input(shape=(28, 28, 1)),\n",
        "    #Reduzco el size de la imagen\n",
        "    tf.keras.layers.MaxPooling2D(2, 2),\n",
        "    #Siempre que trabajamos con imagenes (matrices) tenemos que aplanar la entrada para que sea un vector\n",
        "    tf.keras.layers.Flatten(),\n",
        "    #Capas intermedias...\n",
        "    tf.keras.layers.Dense(128, activation=tf.nn.relu),\n",
        "    #Capa de Salida...\n",
        "    #Para problemas de clasificacion vamos a utilizar una capa de salita softmax\n",
        "    tf.keras.layers.Dense(10, activation=tf.nn.softmax)\n",
        "])"
      ],
      "metadata": {
        "id": "gGyrriH2X4sd"
      },
      "execution_count": 6,
      "outputs": []
    },
    {
      "cell_type": "code",
      "source": [
        "modelo_v1.compile(optimizer= tf.optimizers.Adam(), loss='sparse_categorical_crossentropy', metrics=['accuracy'])\n",
        "modelo_v1.fit(X_train, y_train, epochs=100)"
      ],
      "metadata": {
        "colab": {
          "base_uri": "https://localhost:8080/"
        },
        "collapsed": true,
        "id": "rBDrskF6YGa9",
        "outputId": "962bc874-3fa9-4ef6-be59-295a75939fe2"
      },
      "execution_count": 7,
      "outputs": [
        {
          "output_type": "stream",
          "name": "stdout",
          "text": [
            "Epoch 1/100\n",
            "\u001b[1m1875/1875\u001b[0m \u001b[32m━━━━━━━━━━━━━━━━━━━━\u001b[0m\u001b[37m\u001b[0m \u001b[1m8s\u001b[0m 4ms/step - accuracy: 0.7362 - loss: 0.7683\n",
            "Epoch 2/100\n",
            "\u001b[1m1875/1875\u001b[0m \u001b[32m━━━━━━━━━━━━━━━━━━━━\u001b[0m\u001b[37m\u001b[0m \u001b[1m8s\u001b[0m 2ms/step - accuracy: 0.8285 - loss: 0.4698\n",
            "Epoch 3/100\n",
            "\u001b[1m1875/1875\u001b[0m \u001b[32m━━━━━━━━━━━━━━━━━━━━\u001b[0m\u001b[37m\u001b[0m \u001b[1m6s\u001b[0m 3ms/step - accuracy: 0.8457 - loss: 0.4218\n",
            "Epoch 4/100\n",
            "\u001b[1m1875/1875\u001b[0m \u001b[32m━━━━━━━━━━━━━━━━━━━━\u001b[0m\u001b[37m\u001b[0m \u001b[1m9s\u001b[0m 2ms/step - accuracy: 0.8541 - loss: 0.3953\n",
            "Epoch 5/100\n",
            "\u001b[1m1875/1875\u001b[0m \u001b[32m━━━━━━━━━━━━━━━━━━━━\u001b[0m\u001b[37m\u001b[0m \u001b[1m6s\u001b[0m 3ms/step - accuracy: 0.8566 - loss: 0.3796\n",
            "Epoch 6/100\n",
            "\u001b[1m1875/1875\u001b[0m \u001b[32m━━━━━━━━━━━━━━━━━━━━\u001b[0m\u001b[37m\u001b[0m \u001b[1m9s\u001b[0m 3ms/step - accuracy: 0.8673 - loss: 0.3604\n",
            "Epoch 7/100\n",
            "\u001b[1m1875/1875\u001b[0m \u001b[32m━━━━━━━━━━━━━━━━━━━━\u001b[0m\u001b[37m\u001b[0m \u001b[1m5s\u001b[0m 3ms/step - accuracy: 0.8701 - loss: 0.3479\n",
            "Epoch 8/100\n",
            "\u001b[1m1875/1875\u001b[0m \u001b[32m━━━━━━━━━━━━━━━━━━━━\u001b[0m\u001b[37m\u001b[0m \u001b[1m4s\u001b[0m 2ms/step - accuracy: 0.8748 - loss: 0.3361\n",
            "Epoch 9/100\n",
            "\u001b[1m1875/1875\u001b[0m \u001b[32m━━━━━━━━━━━━━━━━━━━━\u001b[0m\u001b[37m\u001b[0m \u001b[1m6s\u001b[0m 3ms/step - accuracy: 0.8758 - loss: 0.3279\n",
            "Epoch 10/100\n",
            "\u001b[1m1875/1875\u001b[0m \u001b[32m━━━━━━━━━━━━━━━━━━━━\u001b[0m\u001b[37m\u001b[0m \u001b[1m4s\u001b[0m 2ms/step - accuracy: 0.8807 - loss: 0.3218\n",
            "Epoch 11/100\n",
            "\u001b[1m1875/1875\u001b[0m \u001b[32m━━━━━━━━━━━━━━━━━━━━\u001b[0m\u001b[37m\u001b[0m \u001b[1m4s\u001b[0m 2ms/step - accuracy: 0.8804 - loss: 0.3206\n",
            "Epoch 12/100\n",
            "\u001b[1m1875/1875\u001b[0m \u001b[32m━━━━━━━━━━━━━━━━━━━━\u001b[0m\u001b[37m\u001b[0m \u001b[1m6s\u001b[0m 3ms/step - accuracy: 0.8829 - loss: 0.3112\n",
            "Epoch 13/100\n",
            "\u001b[1m1875/1875\u001b[0m \u001b[32m━━━━━━━━━━━━━━━━━━━━\u001b[0m\u001b[37m\u001b[0m \u001b[1m9s\u001b[0m 2ms/step - accuracy: 0.8851 - loss: 0.3057\n",
            "Epoch 14/100\n",
            "\u001b[1m1875/1875\u001b[0m \u001b[32m━━━━━━━━━━━━━━━━━━━━\u001b[0m\u001b[37m\u001b[0m \u001b[1m6s\u001b[0m 3ms/step - accuracy: 0.8905 - loss: 0.2988\n",
            "Epoch 15/100\n",
            "\u001b[1m1875/1875\u001b[0m \u001b[32m━━━━━━━━━━━━━━━━━━━━\u001b[0m\u001b[37m\u001b[0m \u001b[1m4s\u001b[0m 2ms/step - accuracy: 0.8895 - loss: 0.2925\n",
            "Epoch 16/100\n",
            "\u001b[1m1875/1875\u001b[0m \u001b[32m━━━━━━━━━━━━━━━━━━━━\u001b[0m\u001b[37m\u001b[0m \u001b[1m6s\u001b[0m 3ms/step - accuracy: 0.8927 - loss: 0.2900\n",
            "Epoch 17/100\n",
            "\u001b[1m1875/1875\u001b[0m \u001b[32m━━━━━━━━━━━━━━━━━━━━\u001b[0m\u001b[37m\u001b[0m \u001b[1m4s\u001b[0m 2ms/step - accuracy: 0.8914 - loss: 0.2871\n",
            "Epoch 18/100\n",
            "\u001b[1m1875/1875\u001b[0m \u001b[32m━━━━━━━━━━━━━━━━━━━━\u001b[0m\u001b[37m\u001b[0m \u001b[1m4s\u001b[0m 2ms/step - accuracy: 0.8947 - loss: 0.2806\n",
            "Epoch 19/100\n",
            "\u001b[1m1875/1875\u001b[0m \u001b[32m━━━━━━━━━━━━━━━━━━━━\u001b[0m\u001b[37m\u001b[0m \u001b[1m6s\u001b[0m 3ms/step - accuracy: 0.8959 - loss: 0.2775\n",
            "Epoch 20/100\n",
            "\u001b[1m1875/1875\u001b[0m \u001b[32m━━━━━━━━━━━━━━━━━━━━\u001b[0m\u001b[37m\u001b[0m \u001b[1m10s\u001b[0m 3ms/step - accuracy: 0.8968 - loss: 0.2737\n",
            "Epoch 21/100\n",
            "\u001b[1m1875/1875\u001b[0m \u001b[32m━━━━━━━━━━━━━━━━━━━━\u001b[0m\u001b[37m\u001b[0m \u001b[1m9s\u001b[0m 2ms/step - accuracy: 0.9001 - loss: 0.2701\n",
            "Epoch 22/100\n",
            "\u001b[1m1875/1875\u001b[0m \u001b[32m━━━━━━━━━━━━━━━━━━━━\u001b[0m\u001b[37m\u001b[0m \u001b[1m6s\u001b[0m 3ms/step - accuracy: 0.9014 - loss: 0.2608\n",
            "Epoch 23/100\n",
            "\u001b[1m1875/1875\u001b[0m \u001b[32m━━━━━━━━━━━━━━━━━━━━\u001b[0m\u001b[37m\u001b[0m \u001b[1m9s\u001b[0m 2ms/step - accuracy: 0.9019 - loss: 0.2592\n",
            "Epoch 24/100\n",
            "\u001b[1m1875/1875\u001b[0m \u001b[32m━━━━━━━━━━━━━━━━━━━━\u001b[0m\u001b[37m\u001b[0m \u001b[1m6s\u001b[0m 3ms/step - accuracy: 0.9016 - loss: 0.2590\n",
            "Epoch 25/100\n",
            "\u001b[1m1875/1875\u001b[0m \u001b[32m━━━━━━━━━━━━━━━━━━━━\u001b[0m\u001b[37m\u001b[0m \u001b[1m5s\u001b[0m 2ms/step - accuracy: 0.9049 - loss: 0.2582\n",
            "Epoch 26/100\n",
            "\u001b[1m1875/1875\u001b[0m \u001b[32m━━━━━━━━━━━━━━━━━━━━\u001b[0m\u001b[37m\u001b[0m \u001b[1m5s\u001b[0m 3ms/step - accuracy: 0.9064 - loss: 0.2465\n",
            "Epoch 27/100\n",
            "\u001b[1m1875/1875\u001b[0m \u001b[32m━━━━━━━━━━━━━━━━━━━━\u001b[0m\u001b[37m\u001b[0m \u001b[1m6s\u001b[0m 3ms/step - accuracy: 0.9069 - loss: 0.2498\n",
            "Epoch 28/100\n",
            "\u001b[1m1875/1875\u001b[0m \u001b[32m━━━━━━━━━━━━━━━━━━━━\u001b[0m\u001b[37m\u001b[0m \u001b[1m4s\u001b[0m 2ms/step - accuracy: 0.9085 - loss: 0.2413\n",
            "Epoch 29/100\n",
            "\u001b[1m1875/1875\u001b[0m \u001b[32m━━━━━━━━━━━━━━━━━━━━\u001b[0m\u001b[37m\u001b[0m \u001b[1m6s\u001b[0m 3ms/step - accuracy: 0.9069 - loss: 0.2475\n",
            "Epoch 30/100\n",
            "\u001b[1m1875/1875\u001b[0m \u001b[32m━━━━━━━━━━━━━━━━━━━━\u001b[0m\u001b[37m\u001b[0m \u001b[1m5s\u001b[0m 3ms/step - accuracy: 0.9085 - loss: 0.2426\n",
            "Epoch 31/100\n",
            "\u001b[1m1875/1875\u001b[0m \u001b[32m━━━━━━━━━━━━━━━━━━━━\u001b[0m\u001b[37m\u001b[0m \u001b[1m5s\u001b[0m 2ms/step - accuracy: 0.9103 - loss: 0.2385\n",
            "Epoch 32/100\n",
            "\u001b[1m1875/1875\u001b[0m \u001b[32m━━━━━━━━━━━━━━━━━━━━\u001b[0m\u001b[37m\u001b[0m \u001b[1m6s\u001b[0m 3ms/step - accuracy: 0.9119 - loss: 0.2357\n",
            "Epoch 33/100\n",
            "\u001b[1m1875/1875\u001b[0m \u001b[32m━━━━━━━━━━━━━━━━━━━━\u001b[0m\u001b[37m\u001b[0m \u001b[1m5s\u001b[0m 2ms/step - accuracy: 0.9134 - loss: 0.2310\n",
            "Epoch 34/100\n",
            "\u001b[1m1875/1875\u001b[0m \u001b[32m━━━━━━━━━━━━━━━━━━━━\u001b[0m\u001b[37m\u001b[0m \u001b[1m6s\u001b[0m 3ms/step - accuracy: 0.9144 - loss: 0.2273\n",
            "Epoch 35/100\n",
            "\u001b[1m1875/1875\u001b[0m \u001b[32m━━━━━━━━━━━━━━━━━━━━\u001b[0m\u001b[37m\u001b[0m \u001b[1m9s\u001b[0m 2ms/step - accuracy: 0.9126 - loss: 0.2267\n",
            "Epoch 36/100\n",
            "\u001b[1m1875/1875\u001b[0m \u001b[32m━━━━━━━━━━━━━━━━━━━━\u001b[0m\u001b[37m\u001b[0m \u001b[1m6s\u001b[0m 3ms/step - accuracy: 0.9158 - loss: 0.2246\n",
            "Epoch 37/100\n",
            "\u001b[1m1875/1875\u001b[0m \u001b[32m━━━━━━━━━━━━━━━━━━━━\u001b[0m\u001b[37m\u001b[0m \u001b[1m9s\u001b[0m 2ms/step - accuracy: 0.9174 - loss: 0.2211\n",
            "Epoch 38/100\n",
            "\u001b[1m1875/1875\u001b[0m \u001b[32m━━━━━━━━━━━━━━━━━━━━\u001b[0m\u001b[37m\u001b[0m \u001b[1m6s\u001b[0m 3ms/step - accuracy: 0.9199 - loss: 0.2171\n",
            "Epoch 39/100\n",
            "\u001b[1m1875/1875\u001b[0m \u001b[32m━━━━━━━━━━━━━━━━━━━━\u001b[0m\u001b[37m\u001b[0m \u001b[1m10s\u001b[0m 3ms/step - accuracy: 0.9181 - loss: 0.2160\n",
            "Epoch 40/100\n",
            "\u001b[1m1875/1875\u001b[0m \u001b[32m━━━━━━━━━━━━━━━━━━━━\u001b[0m\u001b[37m\u001b[0m \u001b[1m9s\u001b[0m 2ms/step - accuracy: 0.9192 - loss: 0.2168\n",
            "Epoch 41/100\n",
            "\u001b[1m1875/1875\u001b[0m \u001b[32m━━━━━━━━━━━━━━━━━━━━\u001b[0m\u001b[37m\u001b[0m \u001b[1m6s\u001b[0m 3ms/step - accuracy: 0.9201 - loss: 0.2133\n",
            "Epoch 42/100\n",
            "\u001b[1m1875/1875\u001b[0m \u001b[32m━━━━━━━━━━━━━━━━━━━━\u001b[0m\u001b[37m\u001b[0m \u001b[1m9s\u001b[0m 3ms/step - accuracy: 0.9193 - loss: 0.2114\n",
            "Epoch 43/100\n",
            "\u001b[1m1875/1875\u001b[0m \u001b[32m━━━━━━━━━━━━━━━━━━━━\u001b[0m\u001b[37m\u001b[0m \u001b[1m6s\u001b[0m 3ms/step - accuracy: 0.9212 - loss: 0.2086\n",
            "Epoch 44/100\n",
            "\u001b[1m1875/1875\u001b[0m \u001b[32m━━━━━━━━━━━━━━━━━━━━\u001b[0m\u001b[37m\u001b[0m \u001b[1m5s\u001b[0m 3ms/step - accuracy: 0.9207 - loss: 0.2081\n",
            "Epoch 45/100\n",
            "\u001b[1m1875/1875\u001b[0m \u001b[32m━━━━━━━━━━━━━━━━━━━━\u001b[0m\u001b[37m\u001b[0m \u001b[1m6s\u001b[0m 3ms/step - accuracy: 0.9211 - loss: 0.2079\n",
            "Epoch 46/100\n",
            "\u001b[1m1875/1875\u001b[0m \u001b[32m━━━━━━━━━━━━━━━━━━━━\u001b[0m\u001b[37m\u001b[0m \u001b[1m9s\u001b[0m 2ms/step - accuracy: 0.9232 - loss: 0.2033\n",
            "Epoch 47/100\n",
            "\u001b[1m1875/1875\u001b[0m \u001b[32m━━━━━━━━━━━━━━━━━━━━\u001b[0m\u001b[37m\u001b[0m \u001b[1m7s\u001b[0m 3ms/step - accuracy: 0.9225 - loss: 0.2042\n",
            "Epoch 48/100\n",
            "\u001b[1m1875/1875\u001b[0m \u001b[32m━━━━━━━━━━━━━━━━━━━━\u001b[0m\u001b[37m\u001b[0m \u001b[1m9s\u001b[0m 3ms/step - accuracy: 0.9227 - loss: 0.2026\n",
            "Epoch 49/100\n",
            "\u001b[1m1875/1875\u001b[0m \u001b[32m━━━━━━━━━━━━━━━━━━━━\u001b[0m\u001b[37m\u001b[0m \u001b[1m10s\u001b[0m 2ms/step - accuracy: 0.9245 - loss: 0.2006\n",
            "Epoch 50/100\n",
            "\u001b[1m1875/1875\u001b[0m \u001b[32m━━━━━━━━━━━━━━━━━━━━\u001b[0m\u001b[37m\u001b[0m \u001b[1m6s\u001b[0m 3ms/step - accuracy: 0.9234 - loss: 0.1999\n",
            "Epoch 51/100\n",
            "\u001b[1m1875/1875\u001b[0m \u001b[32m━━━━━━━━━━━━━━━━━━━━\u001b[0m\u001b[37m\u001b[0m \u001b[1m5s\u001b[0m 2ms/step - accuracy: 0.9246 - loss: 0.1971\n",
            "Epoch 52/100\n",
            "\u001b[1m1875/1875\u001b[0m \u001b[32m━━━━━━━━━━━━━━━━━━━━\u001b[0m\u001b[37m\u001b[0m \u001b[1m5s\u001b[0m 2ms/step - accuracy: 0.9249 - loss: 0.1988\n",
            "Epoch 53/100\n",
            "\u001b[1m1875/1875\u001b[0m \u001b[32m━━━━━━━━━━━━━━━━━━━━\u001b[0m\u001b[37m\u001b[0m \u001b[1m6s\u001b[0m 3ms/step - accuracy: 0.9266 - loss: 0.1954\n",
            "Epoch 54/100\n",
            "\u001b[1m1875/1875\u001b[0m \u001b[32m━━━━━━━━━━━━━━━━━━━━\u001b[0m\u001b[37m\u001b[0m \u001b[1m5s\u001b[0m 3ms/step - accuracy: 0.9277 - loss: 0.1953\n",
            "Epoch 55/100\n",
            "\u001b[1m1875/1875\u001b[0m \u001b[32m━━━━━━━━━━━━━━━━━━━━\u001b[0m\u001b[37m\u001b[0m \u001b[1m6s\u001b[0m 3ms/step - accuracy: 0.9254 - loss: 0.1936\n",
            "Epoch 56/100\n",
            "\u001b[1m1875/1875\u001b[0m \u001b[32m━━━━━━━━━━━━━━━━━━━━\u001b[0m\u001b[37m\u001b[0m \u001b[1m5s\u001b[0m 3ms/step - accuracy: 0.9292 - loss: 0.1857\n",
            "Epoch 57/100\n",
            "\u001b[1m1875/1875\u001b[0m \u001b[32m━━━━━━━━━━━━━━━━━━━━\u001b[0m\u001b[37m\u001b[0m \u001b[1m5s\u001b[0m 3ms/step - accuracy: 0.9287 - loss: 0.1870\n",
            "Epoch 58/100\n",
            "\u001b[1m1875/1875\u001b[0m \u001b[32m━━━━━━━━━━━━━━━━━━━━\u001b[0m\u001b[37m\u001b[0m \u001b[1m6s\u001b[0m 3ms/step - accuracy: 0.9288 - loss: 0.1865\n",
            "Epoch 59/100\n",
            "\u001b[1m1875/1875\u001b[0m \u001b[32m━━━━━━━━━━━━━━━━━━━━\u001b[0m\u001b[37m\u001b[0m \u001b[1m5s\u001b[0m 3ms/step - accuracy: 0.9292 - loss: 0.1847\n",
            "Epoch 60/100\n",
            "\u001b[1m1875/1875\u001b[0m \u001b[32m━━━━━━━━━━━━━━━━━━━━\u001b[0m\u001b[37m\u001b[0m \u001b[1m10s\u001b[0m 3ms/step - accuracy: 0.9322 - loss: 0.1799\n",
            "Epoch 61/100\n",
            "\u001b[1m1875/1875\u001b[0m \u001b[32m━━━━━━━━━━━━━━━━━━━━\u001b[0m\u001b[37m\u001b[0m \u001b[1m6s\u001b[0m 3ms/step - accuracy: 0.9282 - loss: 0.1856\n",
            "Epoch 62/100\n",
            "\u001b[1m1875/1875\u001b[0m \u001b[32m━━━━━━━━━━━━━━━━━━━━\u001b[0m\u001b[37m\u001b[0m \u001b[1m10s\u001b[0m 3ms/step - accuracy: 0.9296 - loss: 0.1829\n",
            "Epoch 63/100\n",
            "\u001b[1m1875/1875\u001b[0m \u001b[32m━━━━━━━━━━━━━━━━━━━━\u001b[0m\u001b[37m\u001b[0m \u001b[1m6s\u001b[0m 3ms/step - accuracy: 0.9312 - loss: 0.1778\n",
            "Epoch 64/100\n",
            "\u001b[1m1875/1875\u001b[0m \u001b[32m━━━━━━━━━━━━━━━━━━━━\u001b[0m\u001b[37m\u001b[0m \u001b[1m9s\u001b[0m 2ms/step - accuracy: 0.9324 - loss: 0.1811\n",
            "Epoch 65/100\n",
            "\u001b[1m1875/1875\u001b[0m \u001b[32m━━━━━━━━━━━━━━━━━━━━\u001b[0m\u001b[37m\u001b[0m \u001b[1m6s\u001b[0m 3ms/step - accuracy: 0.9318 - loss: 0.1776\n",
            "Epoch 66/100\n",
            "\u001b[1m1875/1875\u001b[0m \u001b[32m━━━━━━━━━━━━━━━━━━━━\u001b[0m\u001b[37m\u001b[0m \u001b[1m9s\u001b[0m 3ms/step - accuracy: 0.9346 - loss: 0.1705\n",
            "Epoch 67/100\n",
            "\u001b[1m1875/1875\u001b[0m \u001b[32m━━━━━━━━━━━━━━━━━━━━\u001b[0m\u001b[37m\u001b[0m \u001b[1m6s\u001b[0m 3ms/step - accuracy: 0.9320 - loss: 0.1788\n",
            "Epoch 68/100\n",
            "\u001b[1m1875/1875\u001b[0m \u001b[32m━━━━━━━━━━━━━━━━━━━━\u001b[0m\u001b[37m\u001b[0m \u001b[1m11s\u001b[0m 3ms/step - accuracy: 0.9329 - loss: 0.1752\n",
            "Epoch 69/100\n",
            "\u001b[1m1875/1875\u001b[0m \u001b[32m━━━━━━━━━━━━━━━━━━━━\u001b[0m\u001b[37m\u001b[0m \u001b[1m5s\u001b[0m 2ms/step - accuracy: 0.9341 - loss: 0.1733\n",
            "Epoch 70/100\n",
            "\u001b[1m1875/1875\u001b[0m \u001b[32m━━━━━━━━━━━━━━━━━━━━\u001b[0m\u001b[37m\u001b[0m \u001b[1m5s\u001b[0m 3ms/step - accuracy: 0.9343 - loss: 0.1709\n",
            "Epoch 71/100\n",
            "\u001b[1m1875/1875\u001b[0m \u001b[32m━━━━━━━━━━━━━━━━━━━━\u001b[0m\u001b[37m\u001b[0m \u001b[1m6s\u001b[0m 3ms/step - accuracy: 0.9366 - loss: 0.1668\n",
            "Epoch 72/100\n",
            "\u001b[1m1875/1875\u001b[0m \u001b[32m━━━━━━━━━━━━━━━━━━━━\u001b[0m\u001b[37m\u001b[0m \u001b[1m10s\u001b[0m 3ms/step - accuracy: 0.9396 - loss: 0.1648\n",
            "Epoch 73/100\n",
            "\u001b[1m1875/1875\u001b[0m \u001b[32m━━━━━━━━━━━━━━━━━━━━\u001b[0m\u001b[37m\u001b[0m \u001b[1m5s\u001b[0m 3ms/step - accuracy: 0.9352 - loss: 0.1706\n",
            "Epoch 74/100\n",
            "\u001b[1m1875/1875\u001b[0m \u001b[32m━━━━━━━━━━━━━━━━━━━━\u001b[0m\u001b[37m\u001b[0m \u001b[1m5s\u001b[0m 3ms/step - accuracy: 0.9345 - loss: 0.1694\n",
            "Epoch 75/100\n",
            "\u001b[1m1875/1875\u001b[0m \u001b[32m━━━━━━━━━━━━━━━━━━━━\u001b[0m\u001b[37m\u001b[0m \u001b[1m6s\u001b[0m 3ms/step - accuracy: 0.9364 - loss: 0.1666\n",
            "Epoch 76/100\n",
            "\u001b[1m1875/1875\u001b[0m \u001b[32m━━━━━━━━━━━━━━━━━━━━\u001b[0m\u001b[37m\u001b[0m \u001b[1m5s\u001b[0m 3ms/step - accuracy: 0.9378 - loss: 0.1648\n",
            "Epoch 77/100\n",
            "\u001b[1m1875/1875\u001b[0m \u001b[32m━━━━━━━━━━━━━━━━━━━━\u001b[0m\u001b[37m\u001b[0m \u001b[1m6s\u001b[0m 3ms/step - accuracy: 0.9365 - loss: 0.1664\n",
            "Epoch 78/100\n",
            "\u001b[1m1875/1875\u001b[0m \u001b[32m━━━━━━━━━━━━━━━━━━━━\u001b[0m\u001b[37m\u001b[0m \u001b[1m9s\u001b[0m 2ms/step - accuracy: 0.9352 - loss: 0.1659\n",
            "Epoch 79/100\n",
            "\u001b[1m1875/1875\u001b[0m \u001b[32m━━━━━━━━━━━━━━━━━━━━\u001b[0m\u001b[37m\u001b[0m \u001b[1m6s\u001b[0m 3ms/step - accuracy: 0.9378 - loss: 0.1636\n",
            "Epoch 80/100\n",
            "\u001b[1m1875/1875\u001b[0m \u001b[32m━━━━━━━━━━━━━━━━━━━━\u001b[0m\u001b[37m\u001b[0m \u001b[1m5s\u001b[0m 3ms/step - accuracy: 0.9392 - loss: 0.1608\n",
            "Epoch 81/100\n",
            "\u001b[1m1875/1875\u001b[0m \u001b[32m━━━━━━━━━━━━━━━━━━━━\u001b[0m\u001b[37m\u001b[0m \u001b[1m6s\u001b[0m 3ms/step - accuracy: 0.9383 - loss: 0.1608\n",
            "Epoch 82/100\n",
            "\u001b[1m1875/1875\u001b[0m \u001b[32m━━━━━━━━━━━━━━━━━━━━\u001b[0m\u001b[37m\u001b[0m \u001b[1m9s\u001b[0m 2ms/step - accuracy: 0.9382 - loss: 0.1603\n",
            "Epoch 83/100\n",
            "\u001b[1m1875/1875\u001b[0m \u001b[32m━━━━━━━━━━━━━━━━━━━━\u001b[0m\u001b[37m\u001b[0m \u001b[1m6s\u001b[0m 3ms/step - accuracy: 0.9411 - loss: 0.1588\n",
            "Epoch 84/100\n",
            "\u001b[1m1875/1875\u001b[0m \u001b[32m━━━━━━━━━━━━━━━━━━━━\u001b[0m\u001b[37m\u001b[0m \u001b[1m9s\u001b[0m 2ms/step - accuracy: 0.9415 - loss: 0.1558\n",
            "Epoch 85/100\n",
            "\u001b[1m1875/1875\u001b[0m \u001b[32m━━━━━━━━━━━━━━━━━━━━\u001b[0m\u001b[37m\u001b[0m \u001b[1m6s\u001b[0m 3ms/step - accuracy: 0.9418 - loss: 0.1534\n",
            "Epoch 86/100\n",
            "\u001b[1m1875/1875\u001b[0m \u001b[32m━━━━━━━━━━━━━━━━━━━━\u001b[0m\u001b[37m\u001b[0m \u001b[1m5s\u001b[0m 2ms/step - accuracy: 0.9420 - loss: 0.1557\n",
            "Epoch 87/100\n",
            "\u001b[1m1875/1875\u001b[0m \u001b[32m━━━━━━━━━━━━━━━━━━━━\u001b[0m\u001b[37m\u001b[0m \u001b[1m6s\u001b[0m 3ms/step - accuracy: 0.9405 - loss: 0.1553\n",
            "Epoch 88/100\n",
            "\u001b[1m1875/1875\u001b[0m \u001b[32m━━━━━━━━━━━━━━━━━━━━\u001b[0m\u001b[37m\u001b[0m \u001b[1m5s\u001b[0m 2ms/step - accuracy: 0.9409 - loss: 0.1551\n",
            "Epoch 89/100\n",
            "\u001b[1m1875/1875\u001b[0m \u001b[32m━━━━━━━━━━━━━━━━━━━━\u001b[0m\u001b[37m\u001b[0m \u001b[1m5s\u001b[0m 2ms/step - accuracy: 0.9408 - loss: 0.1565\n",
            "Epoch 90/100\n",
            "\u001b[1m1875/1875\u001b[0m \u001b[32m━━━━━━━━━━━━━━━━━━━━\u001b[0m\u001b[37m\u001b[0m \u001b[1m6s\u001b[0m 3ms/step - accuracy: 0.9412 - loss: 0.1527\n",
            "Epoch 91/100\n",
            "\u001b[1m1875/1875\u001b[0m \u001b[32m━━━━━━━━━━━━━━━━━━━━\u001b[0m\u001b[37m\u001b[0m \u001b[1m9s\u001b[0m 3ms/step - accuracy: 0.9434 - loss: 0.1467\n",
            "Epoch 92/100\n",
            "\u001b[1m1875/1875\u001b[0m \u001b[32m━━━━━━━━━━━━━━━━━━━━\u001b[0m\u001b[37m\u001b[0m \u001b[1m6s\u001b[0m 3ms/step - accuracy: 0.9413 - loss: 0.1542\n",
            "Epoch 93/100\n",
            "\u001b[1m1875/1875\u001b[0m \u001b[32m━━━━━━━━━━━━━━━━━━━━\u001b[0m\u001b[37m\u001b[0m \u001b[1m11s\u001b[0m 3ms/step - accuracy: 0.9449 - loss: 0.1456\n",
            "Epoch 94/100\n",
            "\u001b[1m1875/1875\u001b[0m \u001b[32m━━━━━━━━━━━━━━━━━━━━\u001b[0m\u001b[37m\u001b[0m \u001b[1m9s\u001b[0m 3ms/step - accuracy: 0.9437 - loss: 0.1500\n",
            "Epoch 95/100\n",
            "\u001b[1m1875/1875\u001b[0m \u001b[32m━━━━━━━━━━━━━━━━━━━━\u001b[0m\u001b[37m\u001b[0m \u001b[1m6s\u001b[0m 3ms/step - accuracy: 0.9434 - loss: 0.1478\n",
            "Epoch 96/100\n",
            "\u001b[1m1875/1875\u001b[0m \u001b[32m━━━━━━━━━━━━━━━━━━━━\u001b[0m\u001b[37m\u001b[0m \u001b[1m9s\u001b[0m 3ms/step - accuracy: 0.9434 - loss: 0.1462\n",
            "Epoch 97/100\n",
            "\u001b[1m1875/1875\u001b[0m \u001b[32m━━━━━━━━━━━━━━━━━━━━\u001b[0m\u001b[37m\u001b[0m \u001b[1m6s\u001b[0m 3ms/step - accuracy: 0.9432 - loss: 0.1490\n",
            "Epoch 98/100\n",
            "\u001b[1m1875/1875\u001b[0m \u001b[32m━━━━━━━━━━━━━━━━━━━━\u001b[0m\u001b[37m\u001b[0m \u001b[1m5s\u001b[0m 2ms/step - accuracy: 0.9436 - loss: 0.1473\n",
            "Epoch 99/100\n",
            "\u001b[1m1875/1875\u001b[0m \u001b[32m━━━━━━━━━━━━━━━━━━━━\u001b[0m\u001b[37m\u001b[0m \u001b[1m7s\u001b[0m 3ms/step - accuracy: 0.9450 - loss: 0.1465\n",
            "Epoch 100/100\n",
            "\u001b[1m1875/1875\u001b[0m \u001b[32m━━━━━━━━━━━━━━━━━━━━\u001b[0m\u001b[37m\u001b[0m \u001b[1m5s\u001b[0m 2ms/step - accuracy: 0.9436 - loss: 0.1475\n"
          ]
        },
        {
          "output_type": "execute_result",
          "data": {
            "text/plain": [
              "<keras.src.callbacks.history.History at 0x7f7959fa8b80>"
            ]
          },
          "metadata": {},
          "execution_count": 7
        }
      ]
    },
    {
      "cell_type": "code",
      "source": [
        "modelo_v1.evaluate(X_test, y_test)"
      ],
      "metadata": {
        "colab": {
          "base_uri": "https://localhost:8080/"
        },
        "id": "ICpJXZ5ebMv9",
        "outputId": "1eede69f-5a53-40ba-993a-ee3c283f84c8"
      },
      "execution_count": 9,
      "outputs": [
        {
          "output_type": "stream",
          "name": "stdout",
          "text": [
            "\u001b[1m313/313\u001b[0m \u001b[32m━━━━━━━━━━━━━━━━━━━━\u001b[0m\u001b[37m\u001b[0m \u001b[1m1s\u001b[0m 2ms/step - accuracy: 0.8669 - loss: 0.5075\n"
          ]
        },
        {
          "output_type": "execute_result",
          "data": {
            "text/plain": [
              "[0.5221854448318481, 0.8683000206947327]"
            ]
          },
          "metadata": {},
          "execution_count": 9
        }
      ]
    },
    {
      "cell_type": "markdown",
      "source": [
        "Evaluamos el modelo con los datos de entrenamiento y nos da una presicion de 0.85 y una perdida de 0.4"
      ],
      "metadata": {
        "id": "wQIzqYw1bZjy"
      }
    },
    {
      "cell_type": "code",
      "source": [
        "imagen = 77\n",
        "\n",
        "labels = {\n",
        "    0: \"Remera\",\n",
        "    1: \"Pantalones\",\n",
        "    2: \"Sueters\",\n",
        "    3: \"Vestidos\",\n",
        "    4: \"Abrigo\",\n",
        "    5: \"Sandalias\",\n",
        "    6: \"Camisas\",\n",
        "    7: \"Zapatillas\",\n",
        "    8: \"Bolso\",\n",
        "    9: \"Botas\"\n",
        "}\n",
        "\n",
        "np.set_printoptions(linewidth=320)\n",
        "print(X_train[imagen])\n",
        "print(\"Label \" + labels[y_train[imagen]])\n",
        "\n",
        "plt.imshow(X_train[imagen])\n",
        "plt.colorbar()\n",
        "plt.show()"
      ],
      "metadata": {
        "colab": {
          "base_uri": "https://localhost:8080/",
          "height": 958
        },
        "id": "uvT1FkD1dOTZ",
        "outputId": "1414ab40-75f7-4f62-c111-d95bdf390068"
      },
      "execution_count": 11,
      "outputs": [
        {
          "output_type": "stream",
          "name": "stdout",
          "text": [
            "[[0.         0.         0.         0.         0.         0.         0.         0.         0.26666667 0.52941176 0.31764706 0.11372549 0.         0.01960784 0.         0.14117647 0.30196078 0.60784314 0.64313725 0.32156863 0.01568627 0.         0.         0.         0.00392157 0.         0.00392157 0.        ]\n",
            " [0.         0.         0.         0.         0.         0.         0.38823529 0.79607843 0.69019608 0.72941176 0.73333333 0.85098039 0.84313725 0.86666667 0.73333333 1.         0.54117647 0.69411765 0.74117647 0.63921569 0.78431373 0.43529412 0.01960784 0.         0.00784314 0.         0.         0.        ]\n",
            " [0.         0.         0.00392157 0.         0.         0.65882353 0.73333333 0.65490196 0.63137255 0.63921569 0.61568627 0.59215686 0.66666667 0.12941176 0.45098039 0.61960784 0.         0.37254902 0.6745098  0.59607843 0.64313725 0.69019608 0.56470588 0.00784314 0.         0.00784314 0.         0.        ]\n",
            " [0.         0.         0.         0.         0.35294118 0.7254902  0.65882353 0.61960784 0.65882353 0.64705882 0.62745098 0.63529412 0.69411765 0.54117647 0.67058824 0.76078431 0.6745098  0.7372549  0.61176471 0.66666667 0.62745098 0.61176471 0.68627451 0.38039216 0.         0.01176471 0.         0.        ]\n",
            " [0.00784314 0.01176471 0.         0.         0.69803922 0.6745098  0.66666667 0.65490196 0.65098039 0.64313725 0.60392157 0.62352941 0.63921569 0.70196078 0.63921569 0.61568627 0.58823529 0.61960784 0.62745098 0.65098039 0.63137255 0.62745098 0.62352941 0.64705882 0.03137255 0.         0.00784314 0.        ]\n",
            " [0.         0.01176471 0.         0.39607843 0.75294118 0.68235294 0.67843137 0.64705882 0.65098039 0.65882353 0.61176471 0.63921569 0.61960784 0.62352941 0.65490196 0.63529412 0.63137255 0.63137255 0.60392157 0.63921569 0.65490196 0.67843137 0.62352941 0.69019608 0.38039216 0.         0.01176471 0.        ]\n",
            " [0.00392157 0.         0.         0.75686275 0.69803922 0.72156863 0.65882353 0.61176471 0.67058824 0.63529412 0.61568627 0.63921569 0.61960784 0.63529412 0.66666667 0.61960784 0.61568627 0.62352941 0.60784314 0.66666667 0.62352941 0.66666667 0.66666667 0.66666667 0.72156863 0.         0.         0.00392157]\n",
            " [0.00392157 0.         0.20784314 0.74117647 0.65490196 0.76078431 0.70588235 0.6        0.71764706 0.64313725 0.63137255 0.61176471 0.65098039 0.63921569 0.63921569 0.62352941 0.61176471 0.61960784 0.63137255 0.63529412 0.62745098 0.66666667 0.69019608 0.61960784 0.70980392 0.15686275 0.         0.00392157]\n",
            " [0.01176471 0.         0.56078431 0.75294118 0.6745098  0.71372549 0.71764706 0.59215686 0.67843137 0.65882353 0.64313725 0.61960784 0.62352941 0.62745098 0.64313725 0.63921569 0.62745098 0.62745098 0.61176471 0.62745098 0.63921569 0.67058824 0.7254902  0.63529412 0.70588235 0.59607843 0.         0.        ]\n",
            " [0.         0.         0.70196078 0.69019608 0.70980392 0.70980392 0.75686275 0.59215686 0.64313725 0.63529412 0.62745098 0.63137255 0.63137255 0.62352941 0.63529412 0.63529412 0.62352941 0.62745098 0.63137255 0.63529412 0.62745098 0.65490196 0.7372549  0.6        0.67058824 0.69019608 0.01176471 0.        ]\n",
            " [0.         0.37254902 0.79215686 0.67058824 0.70588235 0.74117647 0.79215686 0.59215686 0.67058824 0.63921569 0.60784314 0.62745098 0.62745098 0.63529412 0.64705882 0.63921569 0.62352941 0.61568627 0.65490196 0.64705882 0.6        0.69019608 0.75294118 0.61568627 0.69411765 0.72941176 0.36862745 0.        ]\n",
            " [0.         0.73333333 0.76078431 0.66666667 0.74117647 0.79215686 0.82745098 0.55686275 0.65882353 0.6745098  0.60392157 0.61960784 0.63137255 0.63921569 0.65882353 0.63529412 0.63137255 0.61176471 0.62352941 0.67058824 0.59215686 0.71372549 0.87058824 0.61568627 0.73333333 0.6745098  0.71372549 0.        ]\n",
            " [0.23921569 0.70196078 0.69019608 0.63921569 0.72941176 0.85882353 0.93333333 0.65098039 0.61568627 0.70196078 0.61568627 0.61960784 0.64705882 0.63529412 0.66666667 0.63529412 0.62745098 0.61960784 0.65098039 0.70588235 0.55686275 0.75294118 0.90588235 0.54117647 0.7254902  0.67058824 0.67843137 0.10588235]\n",
            " [0.60784314 0.74117647 0.67058824 0.65490196 0.69019608 0.89019608 0.72941176 0.52941176 0.68627451 0.69803922 0.62745098 0.61568627 0.63921569 0.63529412 0.65882353 0.64313725 0.62352941 0.60392157 0.65490196 0.70980392 0.51764706 0.89803922 0.80392157 0.56078431 0.7254902  0.66666667 0.67058824 0.49411765]\n",
            " [0.01960784 0.62745098 0.71764706 0.64705882 0.68627451 0.94117647 0.63921569 0.44705882 0.7254902  0.68627451 0.63137255 0.60784314 0.64313725 0.64313725 0.65882353 0.65098039 0.61176471 0.6        0.65098039 0.72941176 0.54117647 0.85882353 0.81960784 0.63137255 0.69411765 0.63921569 0.58039216 0.16078431]\n",
            " [0.         0.         0.48235294 0.64705882 0.71372549 0.96470588 0.63137255 0.60392157 0.69019608 0.6745098  0.62745098 0.6        0.64705882 0.64313725 0.65490196 0.65490196 0.60392157 0.6        0.64705882 0.71764706 0.55686275 0.79607843 0.81568627 0.72156863 0.7372549  0.49411765 0.01960784 0.        ]\n",
            " [0.         0.         0.         0.10588235 0.69411765 0.9372549  0.38431373 0.71764706 0.68627451 0.6745098  0.62352941 0.61176471 0.65098039 0.63921569 0.67058824 0.63921569 0.61176471 0.61176471 0.65882353 0.7254902  0.58431373 0.67843137 0.81568627 0.6        0.12156863 0.         0.         0.        ]\n",
            " [0.00392157 0.         0.         0.         0.         0.         0.21176471 0.82745098 0.62352941 0.68627451 0.61960784 0.61568627 0.65098039 0.63921569 0.67058824 0.63921569 0.61568627 0.6        0.63137255 0.73333333 0.63137255 0.66666667 0.03137255 0.         0.         0.         0.         0.        ]\n",
            " [0.         0.         0.00392157 0.         0.         0.         0.40392157 0.70980392 0.64705882 0.69019608 0.62352941 0.61568627 0.65098039 0.63921569 0.66666667 0.63137255 0.60784314 0.58823529 0.63529412 0.69411765 0.67058824 0.77254902 0.         0.         0.01176471 0.         0.         0.        ]\n",
            " [0.         0.00392157 0.01176471 0.         0.00392157 0.         0.37647059 0.72156863 0.65098039 0.69411765 0.63137255 0.61960784 0.65882353 0.64313725 0.67843137 0.63529412 0.60784314 0.58431373 0.6745098  0.69411765 0.63921569 0.78039216 0.0745098  0.         0.00784314 0.         0.00392157 0.        ]\n",
            " [0.         0.         0.         0.00392157 0.00392157 0.         0.37254902 0.68627451 0.65490196 0.69411765 0.61176471 0.62352941 0.64705882 0.63529412 0.65098039 0.62745098 0.59607843 0.57647059 0.64313725 0.72156863 0.63137255 0.65490196 0.07843137 0.         0.01960784 0.         0.00392157 0.        ]\n",
            " [0.         0.         0.         0.         0.         0.         0.41568627 0.65882353 0.67058824 0.67843137 0.58823529 0.64705882 0.65490196 0.63921569 0.63921569 0.63137255 0.59215686 0.58039216 0.62745098 0.70588235 0.63137255 0.67058824 0.08627451 0.         0.01960784 0.         0.         0.        ]\n",
            " [0.         0.         0.         0.         0.         0.         0.45098039 0.65882353 0.6745098  0.6745098  0.59607843 0.64313725 0.65098039 0.65098039 0.67058824 0.63921569 0.59607843 0.58431373 0.63921569 0.7254902  0.63529412 0.6745098  0.09019608 0.         0.01960784 0.         0.         0.        ]\n",
            " [0.         0.         0.         0.         0.00392157 0.         0.47843137 0.65882353 0.67058824 0.6745098  0.6        0.63921569 0.63137255 0.63529412 0.65882353 0.63137255 0.59215686 0.58039216 0.64313725 0.70980392 0.62745098 0.67843137 0.10196078 0.         0.01960784 0.         0.         0.        ]\n",
            " [0.         0.         0.         0.         0.00392157 0.         0.50196078 0.67058824 0.65490196 0.65098039 0.6        0.67058824 0.6745098  0.62352941 0.65882353 0.63529412 0.6        0.60392157 0.67058824 0.68235294 0.62352941 0.69803922 0.11764706 0.         0.01960784 0.         0.         0.        ]\n",
            " [0.         0.         0.         0.         0.         0.         0.4        0.6745098  0.66666667 0.63921569 0.57254902 0.62745098 0.65490196 0.60784314 0.63921569 0.60392157 0.58431373 0.58039216 0.65490196 0.69411765 0.60392157 0.68627451 0.14117647 0.         0.01960784 0.         0.00392157 0.        ]\n",
            " [0.         0.         0.         0.         0.01568627 0.         0.35686275 0.71372549 0.6745098  0.7254902  0.7254902  0.77647059 0.70588235 0.61176471 0.65490196 0.66666667 0.67058824 0.6745098  0.76078431 0.74509804 0.68627451 0.71764706 0.15686275 0.         0.01960784 0.         0.00392157 0.        ]\n",
            " [0.         0.         0.         0.         0.00392157 0.         0.24705882 0.62745098 0.58431373 0.31372549 0.15294118 0.31764706 0.31372549 0.29803922 0.3372549  0.34117647 0.34117647 0.30196078 0.2627451  0.33333333 0.31764706 0.46666667 0.05098039 0.         0.01176471 0.         0.         0.        ]]\n",
            "Label Camisas\n"
          ]
        },
        {
          "output_type": "display_data",
          "data": {
            "text/plain": [
              "<Figure size 640x480 with 2 Axes>"
            ],
            "image/png": "[encoded data removed]"
          },
          "metadata": {}
        }
      ]
    },
    {
      "cell_type": "markdown",
      "source": [
        "Probamos otra Arquitectura para mejorar el modelo"
      ],
      "metadata": {
        "id": "JoVDb3CtdkIe"
      }
    },
    {
      "cell_type": "code",
      "source": [
        "modelo_v2 = tf.keras.models.Sequential([\n",
        "    tf.keras.Input(shape=(28, 28)),\n",
        "    #Siempre que trabajamos con imagenes (matrices) tenemos que aplanar la entrada para que sea un vector\n",
        "    tf.keras.layers.Flatten(),\n",
        "    #Capas intermedias...\n",
        "    tf.keras.layers.Dense(64, activation=tf.nn.relu),\n",
        "    tf.keras.layers.Dense(64, activation=tf.nn.relu),\n",
        "    #Capa de Salida...\n",
        "    #Para problemas de clasificacion vamos a utilizar una capa de salita softmax\n",
        "    tf.keras.layers.Dense(10, activation=tf.nn.softmax)\n",
        "])"
      ],
      "metadata": {
        "id": "ShGOgG8Ndhj9"
      },
      "execution_count": 12,
      "outputs": []
    },
    {
      "cell_type": "code",
      "source": [
        "modelo_v2.compile(optimizer= tf.optimizers.Adam(), loss='sparse_categorical_crossentropy', metrics=['accuracy'])\n",
        "modelo_v2.fit(X_train, y_train, epochs=50)"
      ],
      "metadata": {
        "colab": {
          "base_uri": "https://localhost:8080/"
        },
        "id": "L91glV-NeGDW",
        "outputId": "6926b694-f594-4b51-a01d-0ec5e749bbae"
      },
      "execution_count": 13,
      "outputs": [
        {
          "output_type": "stream",
          "name": "stdout",
          "text": [
            "Epoch 1/50\n",
            "\u001b[1m1875/1875\u001b[0m \u001b[32m━━━━━━━━━━━━━━━━━━━━\u001b[0m\u001b[37m\u001b[0m \u001b[1m6s\u001b[0m 3ms/step - accuracy: 0.7630 - loss: 0.6756\n",
            "Epoch 2/50\n",
            "\u001b[1m1875/1875\u001b[0m \u001b[32m━━━━━━━━━━━━━━━━━━━━\u001b[0m\u001b[37m\u001b[0m \u001b[1m9s\u001b[0m 2ms/step - accuracy: 0.8594 - loss: 0.3929\n",
            "Epoch 3/50\n",
            "\u001b[1m1875/1875\u001b[0m \u001b[32m━━━━━━━━━━━━━━━━━━━━\u001b[0m\u001b[37m\u001b[0m \u001b[1m6s\u001b[0m 3ms/step - accuracy: 0.8723 - loss: 0.3550\n",
            "Epoch 4/50\n",
            "\u001b[1m1875/1875\u001b[0m \u001b[32m━━━━━━━━━━━━━━━━━━━━\u001b[0m\u001b[37m\u001b[0m \u001b[1m9s\u001b[0m 2ms/step - accuracy: 0.8824 - loss: 0.3200\n",
            "Epoch 5/50\n",
            "\u001b[1m1875/1875\u001b[0m \u001b[32m━━━━━━━━━━━━━━━━━━━━\u001b[0m\u001b[37m\u001b[0m \u001b[1m6s\u001b[0m 3ms/step - accuracy: 0.8842 - loss: 0.3111\n",
            "Epoch 6/50\n",
            "\u001b[1m1875/1875\u001b[0m \u001b[32m━━━━━━━━━━━━━━━━━━━━\u001b[0m\u001b[37m\u001b[0m \u001b[1m9s\u001b[0m 2ms/step - accuracy: 0.8936 - loss: 0.2881\n",
            "Epoch 7/50\n",
            "\u001b[1m1875/1875\u001b[0m \u001b[32m━━━━━━━━━━━━━━━━━━━━\u001b[0m\u001b[37m\u001b[0m \u001b[1m6s\u001b[0m 3ms/step - accuracy: 0.8963 - loss: 0.2804\n",
            "Epoch 8/50\n",
            "\u001b[1m1875/1875\u001b[0m \u001b[32m━━━━━━━━━━━━━━━━━━━━\u001b[0m\u001b[37m\u001b[0m \u001b[1m9s\u001b[0m 2ms/step - accuracy: 0.8999 - loss: 0.2696\n",
            "Epoch 9/50\n",
            "\u001b[1m1875/1875\u001b[0m \u001b[32m━━━━━━━━━━━━━━━━━━━━\u001b[0m\u001b[37m\u001b[0m \u001b[1m6s\u001b[0m 3ms/step - accuracy: 0.9041 - loss: 0.2586\n",
            "Epoch 10/50\n",
            "\u001b[1m1875/1875\u001b[0m \u001b[32m━━━━━━━━━━━━━━━━━━━━\u001b[0m\u001b[37m\u001b[0m \u001b[1m4s\u001b[0m 2ms/step - accuracy: 0.9073 - loss: 0.2517\n",
            "Epoch 11/50\n",
            "\u001b[1m1875/1875\u001b[0m \u001b[32m━━━━━━━━━━━━━━━━━━━━\u001b[0m\u001b[37m\u001b[0m \u001b[1m5s\u001b[0m 3ms/step - accuracy: 0.9066 - loss: 0.2469\n",
            "Epoch 12/50\n",
            "\u001b[1m1875/1875\u001b[0m \u001b[32m━━━━━━━━━━━━━━━━━━━━\u001b[0m\u001b[37m\u001b[0m \u001b[1m9s\u001b[0m 2ms/step - accuracy: 0.9121 - loss: 0.2359\n",
            "Epoch 13/50\n",
            "\u001b[1m1875/1875\u001b[0m \u001b[32m━━━━━━━━━━━━━━━━━━━━\u001b[0m\u001b[37m\u001b[0m \u001b[1m6s\u001b[0m 3ms/step - accuracy: 0.9113 - loss: 0.2332\n",
            "Epoch 14/50\n",
            "\u001b[1m1875/1875\u001b[0m \u001b[32m━━━━━━━━━━━━━━━━━━━━\u001b[0m\u001b[37m\u001b[0m \u001b[1m9s\u001b[0m 3ms/step - accuracy: 0.9153 - loss: 0.2274\n",
            "Epoch 15/50\n",
            "\u001b[1m1875/1875\u001b[0m \u001b[32m━━━━━━━━━━━━━━━━━━━━\u001b[0m\u001b[37m\u001b[0m \u001b[1m5s\u001b[0m 3ms/step - accuracy: 0.9176 - loss: 0.2192\n",
            "Epoch 16/50\n",
            "\u001b[1m1875/1875\u001b[0m \u001b[32m━━━━━━━━━━━━━━━━━━━━\u001b[0m\u001b[37m\u001b[0m \u001b[1m4s\u001b[0m 2ms/step - accuracy: 0.9175 - loss: 0.2201\n",
            "Epoch 17/50\n",
            "\u001b[1m1875/1875\u001b[0m \u001b[32m━━━━━━━━━━━━━━━━━━━━\u001b[0m\u001b[37m\u001b[0m \u001b[1m6s\u001b[0m 3ms/step - accuracy: 0.9205 - loss: 0.2128\n",
            "Epoch 18/50\n",
            "\u001b[1m1875/1875\u001b[0m \u001b[32m━━━━━━━━━━━━━━━━━━━━\u001b[0m\u001b[37m\u001b[0m \u001b[1m9s\u001b[0m 2ms/step - accuracy: 0.9220 - loss: 0.2055\n",
            "Epoch 19/50\n",
            "\u001b[1m1875/1875\u001b[0m \u001b[32m━━━━━━━━━━━━━━━━━━━━\u001b[0m\u001b[37m\u001b[0m \u001b[1m6s\u001b[0m 3ms/step - accuracy: 0.9249 - loss: 0.2006\n",
            "Epoch 20/50\n",
            "\u001b[1m1875/1875\u001b[0m \u001b[32m━━━━━━━━━━━━━━━━━━━━\u001b[0m\u001b[37m\u001b[0m \u001b[1m9s\u001b[0m 2ms/step - accuracy: 0.9244 - loss: 0.1971\n",
            "Epoch 21/50\n",
            "\u001b[1m1875/1875\u001b[0m \u001b[32m━━━━━━━━━━━━━━━━━━━━\u001b[0m\u001b[37m\u001b[0m \u001b[1m6s\u001b[0m 3ms/step - accuracy: 0.9269 - loss: 0.1953\n",
            "Epoch 22/50\n",
            "\u001b[1m1875/1875\u001b[0m \u001b[32m━━━━━━━━━━━━━━━━━━━━\u001b[0m\u001b[37m\u001b[0m \u001b[1m4s\u001b[0m 2ms/step - accuracy: 0.9274 - loss: 0.1924\n",
            "Epoch 23/50\n",
            "\u001b[1m1875/1875\u001b[0m \u001b[32m━━━━━━━━━━━━━━━━━━━━\u001b[0m\u001b[37m\u001b[0m \u001b[1m4s\u001b[0m 2ms/step - accuracy: 0.9291 - loss: 0.1862\n",
            "Epoch 24/50\n",
            "\u001b[1m1875/1875\u001b[0m \u001b[32m━━━━━━━━━━━━━━━━━━━━\u001b[0m\u001b[37m\u001b[0m \u001b[1m6s\u001b[0m 3ms/step - accuracy: 0.9311 - loss: 0.1811\n",
            "Epoch 25/50\n",
            "\u001b[1m1875/1875\u001b[0m \u001b[32m━━━━━━━━━━━━━━━━━━━━\u001b[0m\u001b[37m\u001b[0m \u001b[1m4s\u001b[0m 2ms/step - accuracy: 0.9310 - loss: 0.1824\n",
            "Epoch 26/50\n",
            "\u001b[1m1875/1875\u001b[0m \u001b[32m━━━━━━━━━━━━━━━━━━━━\u001b[0m\u001b[37m\u001b[0m \u001b[1m5s\u001b[0m 2ms/step - accuracy: 0.9349 - loss: 0.1755\n",
            "Epoch 27/50\n",
            "\u001b[1m1875/1875\u001b[0m \u001b[32m━━━━━━━━━━━━━━━━━━━━\u001b[0m\u001b[37m\u001b[0m \u001b[1m5s\u001b[0m 3ms/step - accuracy: 0.9350 - loss: 0.1716\n",
            "Epoch 28/50\n",
            "\u001b[1m1875/1875\u001b[0m \u001b[32m━━━━━━━━━━━━━━━━━━━━\u001b[0m\u001b[37m\u001b[0m \u001b[1m4s\u001b[0m 2ms/step - accuracy: 0.9367 - loss: 0.1698\n",
            "Epoch 29/50\n",
            "\u001b[1m1875/1875\u001b[0m \u001b[32m━━━━━━━━━━━━━━━━━━━━\u001b[0m\u001b[37m\u001b[0m \u001b[1m4s\u001b[0m 2ms/step - accuracy: 0.9378 - loss: 0.1654\n",
            "Epoch 30/50\n",
            "\u001b[1m1875/1875\u001b[0m \u001b[32m━━━━━━━━━━━━━━━━━━━━\u001b[0m\u001b[37m\u001b[0m \u001b[1m5s\u001b[0m 2ms/step - accuracy: 0.9368 - loss: 0.1651\n",
            "Epoch 31/50\n",
            "\u001b[1m1875/1875\u001b[0m \u001b[32m━━━━━━━━━━━━━━━━━━━━\u001b[0m\u001b[37m\u001b[0m \u001b[1m4s\u001b[0m 2ms/step - accuracy: 0.9403 - loss: 0.1582\n",
            "Epoch 32/50\n",
            "\u001b[1m1875/1875\u001b[0m \u001b[32m━━━━━━━━━━━━━━━━━━━━\u001b[0m\u001b[37m\u001b[0m \u001b[1m7s\u001b[0m 3ms/step - accuracy: 0.9400 - loss: 0.1589\n",
            "Epoch 33/50\n",
            "\u001b[1m1875/1875\u001b[0m \u001b[32m━━━━━━━━━━━━━━━━━━━━\u001b[0m\u001b[37m\u001b[0m \u001b[1m4s\u001b[0m 2ms/step - accuracy: 0.9410 - loss: 0.1559\n",
            "Epoch 34/50\n",
            "\u001b[1m1875/1875\u001b[0m \u001b[32m━━━━━━━━━━━━━━━━━━━━\u001b[0m\u001b[37m\u001b[0m \u001b[1m5s\u001b[0m 2ms/step - accuracy: 0.9391 - loss: 0.1577\n",
            "Epoch 35/50\n",
            "\u001b[1m1875/1875\u001b[0m \u001b[32m━━━━━━━━━━━━━━━━━━━━\u001b[0m\u001b[37m\u001b[0m \u001b[1m6s\u001b[0m 3ms/step - accuracy: 0.9429 - loss: 0.1497\n",
            "Epoch 36/50\n",
            "\u001b[1m1875/1875\u001b[0m \u001b[32m━━━━━━━━━━━━━━━━━━━━\u001b[0m\u001b[37m\u001b[0m \u001b[1m10s\u001b[0m 3ms/step - accuracy: 0.9435 - loss: 0.1487\n",
            "Epoch 37/50\n",
            "\u001b[1m1875/1875\u001b[0m \u001b[32m━━━━━━━━━━━━━━━━━━━━\u001b[0m\u001b[37m\u001b[0m \u001b[1m5s\u001b[0m 2ms/step - accuracy: 0.9453 - loss: 0.1436\n",
            "Epoch 38/50\n",
            "\u001b[1m1875/1875\u001b[0m \u001b[32m━━━━━━━━━━━━━━━━━━━━\u001b[0m\u001b[37m\u001b[0m \u001b[1m5s\u001b[0m 2ms/step - accuracy: 0.9448 - loss: 0.1429\n",
            "Epoch 39/50\n",
            "\u001b[1m1875/1875\u001b[0m \u001b[32m━━━━━━━━━━━━━━━━━━━━\u001b[0m\u001b[37m\u001b[0m \u001b[1m6s\u001b[0m 3ms/step - accuracy: 0.9451 - loss: 0.1457\n",
            "Epoch 40/50\n",
            "\u001b[1m1875/1875\u001b[0m \u001b[32m━━━━━━━━━━━━━━━━━━━━\u001b[0m\u001b[37m\u001b[0m \u001b[1m4s\u001b[0m 2ms/step - accuracy: 0.9491 - loss: 0.1358\n",
            "Epoch 41/50\n",
            "\u001b[1m1875/1875\u001b[0m \u001b[32m━━━━━━━━━━━━━━━━━━━━\u001b[0m\u001b[37m\u001b[0m \u001b[1m5s\u001b[0m 2ms/step - accuracy: 0.9482 - loss: 0.1352\n",
            "Epoch 42/50\n",
            "\u001b[1m1875/1875\u001b[0m \u001b[32m━━━━━━━━━━━━━━━━━━━━\u001b[0m\u001b[37m\u001b[0m \u001b[1m6s\u001b[0m 3ms/step - accuracy: 0.9477 - loss: 0.1359\n",
            "Epoch 43/50\n",
            "\u001b[1m1875/1875\u001b[0m \u001b[32m━━━━━━━━━━━━━━━━━━━━\u001b[0m\u001b[37m\u001b[0m \u001b[1m9s\u001b[0m 2ms/step - accuracy: 0.9484 - loss: 0.1356\n",
            "Epoch 44/50\n",
            "\u001b[1m1875/1875\u001b[0m \u001b[32m━━━━━━━━━━━━━━━━━━━━\u001b[0m\u001b[37m\u001b[0m \u001b[1m6s\u001b[0m 3ms/step - accuracy: 0.9479 - loss: 0.1347\n",
            "Epoch 45/50\n",
            "\u001b[1m1875/1875\u001b[0m \u001b[32m━━━━━━━━━━━━━━━━━━━━\u001b[0m\u001b[37m\u001b[0m \u001b[1m4s\u001b[0m 2ms/step - accuracy: 0.9508 - loss: 0.1281\n",
            "Epoch 46/50\n",
            "\u001b[1m1875/1875\u001b[0m \u001b[32m━━━━━━━━━━━━━━━━━━━━\u001b[0m\u001b[37m\u001b[0m \u001b[1m5s\u001b[0m 3ms/step - accuracy: 0.9516 - loss: 0.1286\n",
            "Epoch 47/50\n",
            "\u001b[1m1875/1875\u001b[0m \u001b[32m━━━━━━━━━━━━━━━━━━━━\u001b[0m\u001b[37m\u001b[0m \u001b[1m5s\u001b[0m 2ms/step - accuracy: 0.9518 - loss: 0.1287\n",
            "Epoch 48/50\n",
            "\u001b[1m1875/1875\u001b[0m \u001b[32m━━━━━━━━━━━━━━━━━━━━\u001b[0m\u001b[37m\u001b[0m \u001b[1m6s\u001b[0m 3ms/step - accuracy: 0.9531 - loss: 0.1227\n",
            "Epoch 49/50\n",
            "\u001b[1m1875/1875\u001b[0m \u001b[32m━━━━━━━━━━━━━━━━━━━━\u001b[0m\u001b[37m\u001b[0m \u001b[1m6s\u001b[0m 3ms/step - accuracy: 0.9527 - loss: 0.1237\n",
            "Epoch 50/50\n",
            "\u001b[1m1875/1875\u001b[0m \u001b[32m━━━━━━━━━━━━━━━━━━━━\u001b[0m\u001b[37m\u001b[0m \u001b[1m4s\u001b[0m 2ms/step - accuracy: 0.9524 - loss: 0.1242\n"
          ]
        },
        {
          "output_type": "execute_result",
          "data": {
            "text/plain": [
              "<keras.src.callbacks.history.History at 0x7f795d277df0>"
            ]
          },
          "metadata": {},
          "execution_count": 13
        }
      ]
    },
    {
      "cell_type": "code",
      "source": [
        "modelo_v2.evaluate(X_test, y_test)"
      ],
      "metadata": {
        "colab": {
          "base_uri": "https://localhost:8080/"
        },
        "id": "Cd8y871qfbLQ",
        "outputId": "8843cd7a-5059-4dfe-b9de-8bb987cb1821"
      },
      "execution_count": 14,
      "outputs": [
        {
          "output_type": "stream",
          "name": "stdout",
          "text": [
            "\u001b[1m313/313\u001b[0m \u001b[32m━━━━━━━━━━━━━━━━━━━━\u001b[0m\u001b[37m\u001b[0m \u001b[1m1s\u001b[0m 2ms/step - accuracy: 0.8807 - loss: 0.5077\n"
          ]
        },
        {
          "output_type": "execute_result",
          "data": {
            "text/plain": [
              "[0.4962844252586365, 0.8838000297546387]"
            ]
          },
          "metadata": {},
          "execution_count": 14
        }
      ]
    },
    {
      "cell_type": "markdown",
      "source": [
        "Evaluamos el modelo con los datos de entrenamiento y nos da una leve mejoria de de 0.88 y una perdida de 0.50"
      ],
      "metadata": {
        "id": "PCZ8ha4_fl5m"
      }
    },
    {
      "cell_type": "code",
      "source": [
        "modelo_v3 = tf.keras.models.Sequential([\n",
        "    tf.keras.Input(shape=(28, 28, 1)),\n",
        "    #Antes de achicar la imagen le digo a la IA que pruebe distintos filtros\n",
        "    tf.keras.layers.Conv2D(64, (3,3), activation='relu'),\n",
        "    #Reduzco el size de la imagen\n",
        "    tf.keras.layers.MaxPooling2D(2, 2),\n",
        "    #Otra Convolucion y otro Pooling\n",
        "    tf.keras.layers.Conv2D(64, (3,3), activation='relu'),\n",
        "    #Reduzco el size de la imagen\n",
        "    tf.keras.layers.MaxPooling2D(2, 2),\n",
        "    #Siempre que trabajamos con imagenes (matrices) tenemos que aplanar la entrada para que sea un vector\n",
        "    tf.keras.layers.Flatten(),\n",
        "    #Capas intermedias...\n",
        "    tf.keras.layers.Dense(128, activation=tf.nn.relu),\n",
        "    #Capa de Salida...\n",
        "    #Para problemas de clasificacion vamos a utilizar una capa de salita softmax\n",
        "    tf.keras.layers.Dense(10, activation=tf.nn.softmax)\n",
        "])"
      ],
      "metadata": {
        "id": "aMvVOBONf137"
      },
      "execution_count": 15,
      "outputs": []
    },
    {
      "cell_type": "code",
      "source": [
        "modelo_v3.compile(optimizer= tf.optimizers.Adam(), loss='sparse_categorical_crossentropy', metrics=['accuracy'])\n",
        "modelo_v3.fit(X_train, y_train, epochs=50)"
      ],
      "metadata": {
        "colab": {
          "base_uri": "https://localhost:8080/"
        },
        "collapsed": true,
        "id": "aPd99gNugubJ",
        "outputId": "58f497d7-2f59-43d2-a6cd-86b8c93aab8b"
      },
      "execution_count": 16,
      "outputs": [
        {
          "output_type": "stream",
          "name": "stdout",
          "text": [
            "Epoch 1/50\n",
            "\u001b[1m1875/1875\u001b[0m \u001b[32m━━━━━━━━━━━━━━━━━━━━\u001b[0m\u001b[37m\u001b[0m \u001b[1m91s\u001b[0m 48ms/step - accuracy: 0.7813 - loss: 0.6086\n",
            "Epoch 2/50\n",
            "\u001b[1m1875/1875\u001b[0m \u001b[32m━━━━━━━━━━━━━━━━━━━━\u001b[0m\u001b[37m\u001b[0m \u001b[1m138s\u001b[0m 46ms/step - accuracy: 0.8862 - loss: 0.3073\n",
            "Epoch 3/50\n",
            "\u001b[1m1875/1875\u001b[0m \u001b[32m━━━━━━━━━━━━━━━━━━━━\u001b[0m\u001b[37m\u001b[0m \u001b[1m87s\u001b[0m 47ms/step - accuracy: 0.9092 - loss: 0.2475\n",
            "Epoch 4/50\n",
            "\u001b[1m1875/1875\u001b[0m \u001b[32m━━━━━━━━━━━━━━━━━━━━\u001b[0m\u001b[37m\u001b[0m \u001b[1m87s\u001b[0m 46ms/step - accuracy: 0.9187 - loss: 0.2180\n",
            "Epoch 5/50\n",
            "\u001b[1m1875/1875\u001b[0m \u001b[32m━━━━━━━━━━━━━━━━━━━━\u001b[0m\u001b[37m\u001b[0m \u001b[1m141s\u001b[0m 46ms/step - accuracy: 0.9266 - loss: 0.1956\n",
            "Epoch 6/50\n",
            "\u001b[1m1875/1875\u001b[0m \u001b[32m━━━━━━━━━━━━━━━━━━━━\u001b[0m\u001b[37m\u001b[0m \u001b[1m140s\u001b[0m 45ms/step - accuracy: 0.9389 - loss: 0.1684\n",
            "Epoch 7/50\n",
            "\u001b[1m1875/1875\u001b[0m \u001b[32m━━━━━━━━━━━━━━━━━━━━\u001b[0m\u001b[37m\u001b[0m \u001b[1m85s\u001b[0m 45ms/step - accuracy: 0.9468 - loss: 0.1468\n",
            "Epoch 8/50\n",
            "\u001b[1m1875/1875\u001b[0m \u001b[32m━━━━━━━━━━━━━━━━━━━━\u001b[0m\u001b[37m\u001b[0m \u001b[1m140s\u001b[0m 44ms/step - accuracy: 0.9508 - loss: 0.1301\n",
            "Epoch 9/50\n",
            "\u001b[1m1875/1875\u001b[0m \u001b[32m━━━━━━━━━━━━━━━━━━━━\u001b[0m\u001b[37m\u001b[0m \u001b[1m84s\u001b[0m 45ms/step - accuracy: 0.9560 - loss: 0.1154\n",
            "Epoch 10/50\n",
            "\u001b[1m1875/1875\u001b[0m \u001b[32m━━━━━━━━━━━━━━━━━━━━\u001b[0m\u001b[37m\u001b[0m \u001b[1m89s\u001b[0m 48ms/step - accuracy: 0.9632 - loss: 0.1002\n",
            "Epoch 11/50\n",
            "\u001b[1m1875/1875\u001b[0m \u001b[32m━━━━━━━━━━━━━━━━━━━━\u001b[0m\u001b[37m\u001b[0m \u001b[1m136s\u001b[0m 44ms/step - accuracy: 0.9660 - loss: 0.0883\n",
            "Epoch 12/50\n",
            "\u001b[1m1875/1875\u001b[0m \u001b[32m━━━━━━━━━━━━━━━━━━━━\u001b[0m\u001b[37m\u001b[0m \u001b[1m87s\u001b[0m 46ms/step - accuracy: 0.9721 - loss: 0.0749\n",
            "Epoch 13/50\n",
            "\u001b[1m1875/1875\u001b[0m \u001b[32m━━━━━━━━━━━━━━━━━━━━\u001b[0m\u001b[37m\u001b[0m \u001b[1m84s\u001b[0m 45ms/step - accuracy: 0.9744 - loss: 0.0672\n",
            "Epoch 14/50\n",
            "\u001b[1m1875/1875\u001b[0m \u001b[32m━━━━━━━━━━━━━━━━━━━━\u001b[0m\u001b[37m\u001b[0m \u001b[1m146s\u001b[0m 47ms/step - accuracy: 0.9772 - loss: 0.0592\n",
            "Epoch 15/50\n",
            "\u001b[1m1875/1875\u001b[0m \u001b[32m━━━━━━━━━━━━━━━━━━━━\u001b[0m\u001b[37m\u001b[0m \u001b[1m136s\u001b[0m 44ms/step - accuracy: 0.9814 - loss: 0.0500\n",
            "Epoch 16/50\n",
            "\u001b[1m1875/1875\u001b[0m \u001b[32m━━━━━━━━━━━━━━━━━━━━\u001b[0m\u001b[37m\u001b[0m \u001b[1m83s\u001b[0m 44ms/step - accuracy: 0.9840 - loss: 0.0449\n",
            "Epoch 17/50\n",
            "\u001b[1m1875/1875\u001b[0m \u001b[32m━━━━━━━━━━━━━━━━━━━━\u001b[0m\u001b[37m\u001b[0m \u001b[1m143s\u001b[0m 45ms/step - accuracy: 0.9833 - loss: 0.0453\n",
            "Epoch 18/50\n",
            "\u001b[1m1875/1875\u001b[0m \u001b[32m━━━━━━━━━━━━━━━━━━━━\u001b[0m\u001b[37m\u001b[0m \u001b[1m143s\u001b[0m 45ms/step - accuracy: 0.9862 - loss: 0.0372\n",
            "Epoch 19/50\n",
            "\u001b[1m1875/1875\u001b[0m \u001b[32m━━━━━━━━━━━━━━━━━━━━\u001b[0m\u001b[37m\u001b[0m \u001b[1m140s\u001b[0m 44ms/step - accuracy: 0.9858 - loss: 0.0383\n",
            "Epoch 20/50\n",
            "\u001b[1m1875/1875\u001b[0m \u001b[32m━━━━━━━━━━━━━━━━━━━━\u001b[0m\u001b[37m\u001b[0m \u001b[1m148s\u001b[0m 47ms/step - accuracy: 0.9883 - loss: 0.0339\n",
            "Epoch 21/50\n",
            "\u001b[1m1875/1875\u001b[0m \u001b[32m━━━━━━━━━━━━━━━━━━━━\u001b[0m\u001b[37m\u001b[0m \u001b[1m137s\u001b[0m 45ms/step - accuracy: 0.9876 - loss: 0.0337\n",
            "Epoch 22/50\n",
            "\u001b[1m1875/1875\u001b[0m \u001b[32m━━━━━━━━━━━━━━━━━━━━\u001b[0m\u001b[37m\u001b[0m \u001b[1m86s\u001b[0m 46ms/step - accuracy: 0.9903 - loss: 0.0264\n",
            "Epoch 23/50\n",
            "\u001b[1m1875/1875\u001b[0m \u001b[32m━━━━━━━━━━━━━━━━━━━━\u001b[0m\u001b[37m\u001b[0m \u001b[1m139s\u001b[0m 44ms/step - accuracy: 0.9884 - loss: 0.0325\n",
            "Epoch 24/50\n",
            "\u001b[1m1875/1875\u001b[0m \u001b[32m━━━━━━━━━━━━━━━━━━━━\u001b[0m\u001b[37m\u001b[0m \u001b[1m142s\u001b[0m 44ms/step - accuracy: 0.9902 - loss: 0.0267\n",
            "Epoch 25/50\n",
            "\u001b[1m1875/1875\u001b[0m \u001b[32m━━━━━━━━━━━━━━━━━━━━\u001b[0m\u001b[37m\u001b[0m \u001b[1m83s\u001b[0m 44ms/step - accuracy: 0.9898 - loss: 0.0286\n",
            "Epoch 26/50\n",
            "\u001b[1m1875/1875\u001b[0m \u001b[32m━━━━━━━━━━━━━━━━━━━━\u001b[0m\u001b[37m\u001b[0m \u001b[1m142s\u001b[0m 44ms/step - accuracy: 0.9906 - loss: 0.0258\n",
            "Epoch 27/50\n",
            "\u001b[1m1875/1875\u001b[0m \u001b[32m━━━━━━━━━━━━━━━━━━━━\u001b[0m\u001b[37m\u001b[0m \u001b[1m145s\u001b[0m 46ms/step - accuracy: 0.9927 - loss: 0.0217\n",
            "Epoch 28/50\n",
            "\u001b[1m1875/1875\u001b[0m \u001b[32m━━━━━━━━━━━━━━━━━━━━\u001b[0m\u001b[37m\u001b[0m \u001b[1m82s\u001b[0m 44ms/step - accuracy: 0.9921 - loss: 0.0233\n",
            "Epoch 29/50\n",
            "\u001b[1m1875/1875\u001b[0m \u001b[32m━━━━━━━━━━━━━━━━━━━━\u001b[0m\u001b[37m\u001b[0m \u001b[1m146s\u001b[0m 46ms/step - accuracy: 0.9916 - loss: 0.0244\n",
            "Epoch 30/50\n",
            "\u001b[1m1875/1875\u001b[0m \u001b[32m━━━━━━━━━━━━━━━━━━━━\u001b[0m\u001b[37m\u001b[0m \u001b[1m138s\u001b[0m 44ms/step - accuracy: 0.9931 - loss: 0.0201\n",
            "Epoch 31/50\n",
            "\u001b[1m1875/1875\u001b[0m \u001b[32m━━━━━━━━━━━━━━━━━━━━\u001b[0m\u001b[37m\u001b[0m \u001b[1m144s\u001b[0m 45ms/step - accuracy: 0.9927 - loss: 0.0206\n",
            "Epoch 32/50\n",
            "\u001b[1m1875/1875\u001b[0m \u001b[32m━━━━━━━━━━━━━━━━━━━━\u001b[0m\u001b[37m\u001b[0m \u001b[1m83s\u001b[0m 44ms/step - accuracy: 0.9924 - loss: 0.0224\n",
            "Epoch 33/50\n",
            "\u001b[1m1875/1875\u001b[0m \u001b[32m━━━━━━━━━━━━━━━━━━━━\u001b[0m\u001b[37m\u001b[0m \u001b[1m86s\u001b[0m 46ms/step - accuracy: 0.9937 - loss: 0.0187\n",
            "Epoch 34/50\n",
            "\u001b[1m1875/1875\u001b[0m \u001b[32m━━━━━━━━━━━━━━━━━━━━\u001b[0m\u001b[37m\u001b[0m \u001b[1m83s\u001b[0m 44ms/step - accuracy: 0.9931 - loss: 0.0206\n",
            "Epoch 35/50\n",
            "\u001b[1m1875/1875\u001b[0m \u001b[32m━━━━━━━━━━━━━━━━━━━━\u001b[0m\u001b[37m\u001b[0m \u001b[1m85s\u001b[0m 45ms/step - accuracy: 0.9935 - loss: 0.0196\n",
            "Epoch 36/50\n",
            "\u001b[1m1875/1875\u001b[0m \u001b[32m━━━━━━━━━━━━━━━━━━━━\u001b[0m\u001b[37m\u001b[0m \u001b[1m140s\u001b[0m 45ms/step - accuracy: 0.9942 - loss: 0.0165\n",
            "Epoch 37/50\n",
            "\u001b[1m1875/1875\u001b[0m \u001b[32m━━━━━━━━━━━━━━━━━━━━\u001b[0m\u001b[37m\u001b[0m \u001b[1m145s\u001b[0m 46ms/step - accuracy: 0.9946 - loss: 0.0157\n",
            "Epoch 38/50\n",
            "\u001b[1m1875/1875\u001b[0m \u001b[32m━━━━━━━━━━━━━━━━━━━━\u001b[0m\u001b[37m\u001b[0m \u001b[1m83s\u001b[0m 45ms/step - accuracy: 0.9924 - loss: 0.0215\n",
            "Epoch 39/50\n",
            "\u001b[1m1875/1875\u001b[0m \u001b[32m━━━━━━━━━━━━━━━━━━━━\u001b[0m\u001b[37m\u001b[0m \u001b[1m86s\u001b[0m 46ms/step - accuracy: 0.9953 - loss: 0.0142\n",
            "Epoch 40/50\n",
            "\u001b[1m1875/1875\u001b[0m \u001b[32m━━━━━━━━━━━━━━━━━━━━\u001b[0m\u001b[37m\u001b[0m \u001b[1m140s\u001b[0m 45ms/step - accuracy: 0.9933 - loss: 0.0205\n",
            "Epoch 41/50\n",
            "\u001b[1m1875/1875\u001b[0m \u001b[32m━━━━━━━━━━━━━━━━━━━━\u001b[0m\u001b[37m\u001b[0m \u001b[1m142s\u001b[0m 45ms/step - accuracy: 0.9947 - loss: 0.0161\n",
            "Epoch 42/50\n",
            "\u001b[1m1875/1875\u001b[0m \u001b[32m━━━━━━━━━━━━━━━━━━━━\u001b[0m\u001b[37m\u001b[0m \u001b[1m142s\u001b[0m 45ms/step - accuracy: 0.9948 - loss: 0.0152\n",
            "Epoch 43/50\n",
            "\u001b[1m1875/1875\u001b[0m \u001b[32m━━━━━━━━━━━━━━━━━━━━\u001b[0m\u001b[37m\u001b[0m \u001b[1m141s\u001b[0m 44ms/step - accuracy: 0.9932 - loss: 0.0188\n",
            "Epoch 44/50\n",
            "\u001b[1m1875/1875\u001b[0m \u001b[32m━━━━━━━━━━━━━━━━━━━━\u001b[0m\u001b[37m\u001b[0m \u001b[1m144s\u001b[0m 45ms/step - accuracy: 0.9949 - loss: 0.0157\n",
            "Epoch 45/50\n",
            "\u001b[1m1875/1875\u001b[0m \u001b[32m━━━━━━━━━━━━━━━━━━━━\u001b[0m\u001b[37m\u001b[0m \u001b[1m142s\u001b[0m 46ms/step - accuracy: 0.9952 - loss: 0.0159\n",
            "Epoch 46/50\n",
            "\u001b[1m1875/1875\u001b[0m \u001b[32m━━━━━━━━━━━━━━━━━━━━\u001b[0m\u001b[37m\u001b[0m \u001b[1m141s\u001b[0m 45ms/step - accuracy: 0.9944 - loss: 0.0176\n",
            "Epoch 47/50\n",
            "\u001b[1m1875/1875\u001b[0m \u001b[32m━━━━━━━━━━━━━━━━━━━━\u001b[0m\u001b[37m\u001b[0m \u001b[1m140s\u001b[0m 44ms/step - accuracy: 0.9947 - loss: 0.0152\n",
            "Epoch 48/50\n",
            "\u001b[1m1875/1875\u001b[0m \u001b[32m━━━━━━━━━━━━━━━━━━━━\u001b[0m\u001b[37m\u001b[0m \u001b[1m144s\u001b[0m 45ms/step - accuracy: 0.9949 - loss: 0.0173\n",
            "Epoch 49/50\n",
            "\u001b[1m1875/1875\u001b[0m \u001b[32m━━━━━━━━━━━━━━━━━━━━\u001b[0m\u001b[37m\u001b[0m \u001b[1m143s\u001b[0m 46ms/step - accuracy: 0.9951 - loss: 0.0151\n",
            "Epoch 50/50\n",
            "\u001b[1m1875/1875\u001b[0m \u001b[32m━━━━━━━━━━━━━━━━━━━━\u001b[0m\u001b[37m\u001b[0m \u001b[1m142s\u001b[0m 46ms/step - accuracy: 0.9942 - loss: 0.0167\n"
          ]
        },
        {
          "output_type": "execute_result",
          "data": {
            "text/plain": [
              "<keras.src.callbacks.history.History at 0x7f795cf1add0>"
            ]
          },
          "metadata": {},
          "execution_count": 16
        }
      ]
    },
    {
      "cell_type": "code",
      "source": [
        "modelo_v3.evaluate(X_test, y_test)"
      ],
      "metadata": {
        "colab": {
          "base_uri": "https://localhost:8080/"
        },
        "id": "c71fujAc7Dw4",
        "outputId": "abb9e113-bf48-4cc6-e076-db3cc6ca7a4c"
      },
      "execution_count": 17,
      "outputs": [
        {
          "output_type": "stream",
          "name": "stdout",
          "text": [
            "\u001b[1m313/313\u001b[0m \u001b[32m━━━━━━━━━━━━━━━━━━━━\u001b[0m\u001b[37m\u001b[0m \u001b[1m4s\u001b[0m 12ms/step - accuracy: 0.9089 - loss: 0.9532\n"
          ]
        },
        {
          "output_type": "execute_result",
          "data": {
            "text/plain": [
              "[0.9267702102661133, 0.9100000262260437]"
            ]
          },
          "metadata": {},
          "execution_count": 17
        }
      ]
    },
    {
      "cell_type": "markdown",
      "source": [
        "Con esta nueva Arquitectura vemos una mejora del 0.90 y perdida de 0.95"
      ],
      "metadata": {
        "id": "bGiNyJ8S7Wsl"
      }
    },
    {
      "cell_type": "code",
      "source": [
        "imagen = 66\n",
        "\n",
        "labels = {\n",
        "    0: \"Remera\",\n",
        "    1: \"Pantalones\",\n",
        "    2: \"Sueters\",\n",
        "    3: \"Vestidos\",\n",
        "    4: \"Abrigo\",\n",
        "    5: \"Sandalias\",\n",
        "    6: \"Camisas\",\n",
        "    7: \"Zapatillas\",\n",
        "    8: \"Bolso\",\n",
        "    9: \"Botas\"\n",
        "}\n",
        "\n",
        "np.set_printoptions(linewidth=320)\n",
        "print(X_train[imagen])\n",
        "print(\"Label \" + labels[y_train[imagen]])\n",
        "\n",
        "plt.imshow(X_train[imagen])\n",
        "plt.colorbar()\n",
        "plt.show()"
      ],
      "metadata": {
        "colab": {
          "base_uri": "https://localhost:8080/",
          "height": 958
        },
        "id": "3A38A39O7jMJ",
        "outputId": "f46707e0-2c02-43ef-ed74-5e0c53a164cc"
      },
      "execution_count": 18,
      "outputs": [
        {
          "output_type": "stream",
          "name": "stdout",
          "text": [
            "[[0.         0.         0.         0.01568627 0.         0.         0.         0.         0.         0.         0.63529412 0.81568627 0.61960784 0.61960784 0.63137255 0.60784314 0.61176471 0.7254902  0.44313725 0.         0.         0.         0.         0.         0.         0.         0.         0.        ]\n",
            " [0.         0.         0.         0.         0.         0.         0.         0.00784314 0.56470588 0.88235294 0.98431373 0.80784314 0.55686275 0.76862745 0.64705882 0.58431373 0.6        0.68235294 0.89019608 0.96862745 0.52156863 0.         0.         0.         0.00784314 0.         0.         0.        ]\n",
            " [0.         0.         0.         0.         0.         0.         0.41176471 0.77254902 0.90196078 0.90980392 0.90196078 0.85098039 0.75686275 0.65882353 0.32156863 0.5372549  0.83137255 0.81568627 0.83137255 0.88235294 0.91764706 0.83921569 0.51764706 0.         0.         0.00392157 0.         0.        ]\n",
            " [0.         0.         0.         0.         0.         0.57254902 0.85882353 0.77254902 0.82745098 0.81176471 0.78431373 0.79215686 0.8        0.77647059 0.72156863 0.76078431 0.76470588 0.74117647 0.80392157 0.78039216 0.76078431 0.81176471 0.83529412 0.47058824 0.         0.         0.         0.        ]\n",
            " [0.         0.         0.         0.         0.02352941 0.85490196 0.8        0.81960784 0.75294118 0.74509804 0.76862745 0.77254902 0.76862745 0.78823529 0.80392157 0.78039216 0.76078431 0.75294118 0.76078431 0.72941176 0.77254902 0.75686275 0.7254902  0.72156863 0.01568627 0.         0.         0.        ]\n",
            " [0.         0.         0.         0.         0.4745098  0.89019608 0.81960784 0.85882353 0.77647059 0.8        0.78431373 0.79607843 0.79607843 0.78431373 0.76470588 0.76470588 0.76470588 0.75294118 0.75686275 0.78823529 0.76470588 0.70588235 0.76078431 0.78823529 0.41568627 0.         0.         0.        ]\n",
            " [0.         0.         0.         0.         0.90588235 0.84705882 0.82352941 0.88235294 0.7372549  0.76078431 0.78431373 0.80392157 0.80392157 0.78431373 0.76078431 0.76078431 0.76078431 0.76862745 0.74117647 0.75294118 0.69411765 0.70196078 0.75686275 0.75686275 0.80784314 0.         0.         0.        ]\n",
            " [0.         0.         0.         0.29803922 0.82745098 0.81176471 0.84313725 0.91764706 0.77254902 0.77647059 0.79215686 0.80392157 0.79215686 0.76078431 0.75294118 0.76078431 0.76078431 0.76078431 0.7372549  0.74117647 0.65490196 0.74117647 0.79215686 0.7372549  0.79607843 0.2        0.         0.        ]\n",
            " [0.         0.         0.         0.68627451 0.88235294 0.81568627 0.8627451  0.90196078 0.78823529 0.78039216 0.79607843 0.80392157 0.77254902 0.76078431 0.76078431 0.76078431 0.76470588 0.74509804 0.7372549  0.7372549  0.61960784 0.79607843 0.83137255 0.77254902 0.87058824 0.52941176 0.         0.        ]\n",
            " [0.         0.         0.         0.         0.44705882 0.83137255 0.96078431 0.93333333 0.83921569 0.79215686 0.81568627 0.80392157 0.76470588 0.7372549  0.74117647 0.74117647 0.75294118 0.75294118 0.76078431 0.72156863 0.6        0.89411765 0.92156863 0.70196078 0.27058824 0.         0.         0.        ]\n",
            " [0.         0.         0.         0.         0.         0.         0.69019608 0.89803922 0.83921569 0.82352941 0.76078431 0.7372549  0.72156863 0.69803922 0.69803922 0.70588235 0.70980392 0.70980392 0.67843137 0.65882353 0.64313725 0.91372549 0.53333333 0.         0.         0.         0.         0.        ]\n",
            " [0.         0.         0.         0.         0.         0.         0.         0.14117647 0.88627451 0.80784314 0.76862745 0.72941176 0.75686275 0.7372549  0.72941176 0.7372549  0.74509804 0.76862745 0.76862745 0.74509804 0.81176471 0.         0.         0.         0.         0.         0.         0.        ]\n",
            " [0.         0.         0.         0.         0.         0.01568627 0.         0.01568627 1.         0.82352941 0.85490196 0.75294118 0.76078431 0.75294118 0.73333333 0.74509804 0.78039216 0.75686275 0.80784314 0.78431373 0.85490196 0.         0.         0.00784314 0.         0.         0.         0.        ]\n",
            " [0.         0.         0.         0.         0.         0.         0.         0.         0.79607843 0.84313725 0.82745098 0.75686275 0.76470588 0.75686275 0.73333333 0.73333333 0.78039216 0.73333333 0.77647059 0.77647059 0.80784314 0.         0.         0.00784314 0.         0.         0.         0.        ]\n",
            " [0.         0.         0.         0.         0.         0.00392157 0.         0.         0.75294118 0.87843137 0.80392157 0.76862745 0.76078431 0.75294118 0.74117647 0.71764706 0.78039216 0.75686275 0.76470588 0.8        0.78039216 0.         0.         0.00784314 0.         0.         0.         0.        ]\n",
            " [0.         0.         0.         0.         0.         0.         0.         0.         0.7372549  0.89411765 0.78039216 0.77254902 0.75686275 0.74509804 0.74509804 0.71764706 0.76862745 0.78431373 0.70196078 0.81960784 0.76470588 0.         0.         0.00392157 0.         0.         0.         0.        ]\n",
            " [0.         0.         0.         0.         0.         0.00392157 0.         0.         0.75686275 0.8627451  0.74509804 0.77647059 0.76078431 0.76078431 0.75294118 0.7254902  0.74117647 0.81960784 0.65882353 0.83921569 0.69411765 0.         0.         0.         0.         0.         0.         0.        ]\n",
            " [0.         0.         0.         0.         0.         0.01176471 0.         0.         0.82745098 0.81960784 0.76862745 0.78039216 0.76470588 0.76078431 0.75294118 0.72941176 0.73333333 0.83921569 0.66666667 0.82745098 0.77647059 0.         0.         0.         0.         0.         0.         0.        ]\n",
            " [0.         0.         0.         0.         0.         0.01176471 0.         0.09019608 0.89019608 0.78823529 0.78039216 0.78039216 0.76470588 0.76078431 0.75294118 0.7254902  0.72941176 0.83921569 0.73333333 0.75294118 0.77254902 0.         0.         0.00392157 0.         0.         0.         0.        ]\n",
            " [0.         0.         0.         0.         0.         0.01176471 0.         0.2627451  0.89411765 0.76470588 0.79215686 0.78431373 0.77254902 0.77254902 0.76862745 0.7372549  0.7254902  0.79215686 0.81568627 0.70196078 0.84705882 0.00784314 0.         0.01568627 0.         0.         0.         0.        ]\n",
            " [0.         0.         0.         0.         0.         0.00784314 0.         0.45882353 0.88235294 0.77647059 0.79607843 0.78039216 0.77647059 0.78431373 0.78039216 0.74509804 0.7254902  0.76470588 0.85882353 0.69019608 0.83529412 0.23529412 0.         0.01568627 0.         0.         0.         0.        ]\n",
            " [0.         0.         0.         0.         0.         0.         0.         0.61176471 0.85490196 0.78039216 0.78823529 0.78039216 0.77647059 0.78431373 0.78431373 0.74509804 0.72941176 0.75294118 0.84705882 0.74117647 0.76470588 0.37647059 0.         0.01176471 0.         0.         0.         0.        ]\n",
            " [0.         0.         0.         0.         0.         0.         0.         0.71372549 0.84705882 0.78823529 0.78823529 0.77254902 0.77647059 0.78823529 0.78823529 0.74509804 0.73333333 0.74117647 0.81960784 0.78823529 0.75686275 0.45098039 0.         0.00392157 0.         0.         0.         0.        ]\n",
            " [0.         0.         0.         0.         0.         0.         0.         0.77254902 0.83529412 0.78431373 0.77647059 0.78431373 0.77647059 0.77647059 0.81176471 0.75294118 0.72156863 0.75686275 0.74117647 0.80784314 0.78431373 0.48627451 0.         0.         0.         0.         0.         0.        ]\n",
            " [0.         0.         0.         0.         0.00392157 0.         0.         0.70980392 0.83137255 0.77647059 0.77254902 0.79215686 0.8        0.79607843 0.80392157 0.77647059 0.71764706 0.76862745 0.83137255 0.81568627 0.83137255 0.58431373 0.         0.         0.         0.         0.         0.        ]\n",
            " [0.         0.         0.         0.         0.00784314 0.         0.         0.75686275 0.81176471 0.78039216 0.77254902 0.79215686 0.82352941 0.84705882 0.83137255 0.80784314 0.72156863 0.70980392 0.83529412 0.82745098 0.83921569 0.61568627 0.         0.         0.         0.         0.         0.        ]\n",
            " [0.         0.         0.         0.         0.01176471 0.         0.         0.84705882 0.83921569 0.81176471 0.83137255 0.81960784 0.82745098 0.83921569 0.82352941 0.8        0.76078431 0.71764706 0.80784314 0.83137255 0.8627451  0.88627451 0.         0.         0.00392157 0.         0.         0.        ]\n",
            " [0.         0.         0.         0.         0.00784314 0.         0.         0.4627451  0.5372549  0.59607843 0.69019608 0.74509804 0.8        0.81176471 0.84313725 0.81960784 0.77254902 0.72156863 0.6627451  0.59607843 0.54509804 0.35294118 0.         0.         0.00392157 0.         0.         0.        ]]\n",
            "Label Remera\n"
          ]
        },
        {
          "output_type": "display_data",
          "data": {
            "text/plain": [
              "<Figure size 640x480 with 2 Axes>"
            ],
            "image/png": "[encoded data removed]"
          },
          "metadata": {}
        }
      ]
    },
    {
      "cell_type": "code",
      "source": [
        "modelo_v4 = tf.keras.models.Sequential([\n",
        "    tf.keras.Input(shape=(28, 28, 1)),\n",
        "    #Antes de achicar la imagen le digo a la IA que pruebe distintos filtros\n",
        "    tf.keras.layers.Conv2D(64, (3,3), activation='relu'),\n",
        "    #Reduzco el size de la imagen\n",
        "    tf.keras.layers.MaxPooling2D(2, 2),\n",
        "    #Siempre que trabajamos con imagenes (matrices) tenemos que aplanar la entrada para que sea un vector\n",
        "    tf.keras.layers.Flatten(),\n",
        "    #Capas intermedias...\n",
        "    tf.keras.layers.Dense(128, activation=tf.nn.relu),\n",
        "    #Capa de Salida...\n",
        "    #Para problemas de clasificacion vamos a utilizar una capa de salita softmax\n",
        "    tf.keras.layers.Dense(10, activation=tf.nn.softmax)\n",
        "])"
      ],
      "metadata": {
        "id": "j5t8fLkE76CS"
      },
      "execution_count": 6,
      "outputs": []
    },
    {
      "cell_type": "code",
      "source": [
        "modelo_v4.compile(optimizer= tf.optimizers.Adam(), loss='sparse_categorical_crossentropy', metrics=['accuracy'])\n",
        "modelo_v4.fit(X_train, y_train, epochs=50)"
      ],
      "metadata": {
        "colab": {
          "base_uri": "https://localhost:8080/"
        },
        "collapsed": true,
        "id": "Rijzs7-X8Cm1",
        "outputId": "881807e8-ed6f-4d2f-bc97-3de9481bbca1"
      },
      "execution_count": 7,
      "outputs": [
        {
          "output_type": "stream",
          "name": "stdout",
          "text": [
            "Epoch 1/50\n",
            "\u001b[1m1875/1875\u001b[0m \u001b[32m━━━━━━━━━━━━━━━━━━━━\u001b[0m\u001b[37m\u001b[0m \u001b[1m8s\u001b[0m 2ms/step - accuracy: 0.8192 - loss: 0.5126\n",
            "Epoch 2/50\n",
            "\u001b[1m1875/1875\u001b[0m \u001b[32m━━━━━━━━━━━━━━━━━━━━\u001b[0m\u001b[37m\u001b[0m \u001b[1m4s\u001b[0m 2ms/step - accuracy: 0.9053 - loss: 0.2582\n",
            "Epoch 3/50\n",
            "\u001b[1m1875/1875\u001b[0m \u001b[32m━━━━━━━━━━━━━━━━━━━━\u001b[0m\u001b[37m\u001b[0m \u001b[1m5s\u001b[0m 2ms/step - accuracy: 0.9216 - loss: 0.2154\n",
            "Epoch 4/50\n",
            "\u001b[1m1875/1875\u001b[0m \u001b[32m━━━━━━━━━━━━━━━━━━━━\u001b[0m\u001b[37m\u001b[0m \u001b[1m6s\u001b[0m 3ms/step - accuracy: 0.9351 - loss: 0.1739\n",
            "Epoch 5/50\n",
            "\u001b[1m1875/1875\u001b[0m \u001b[32m━━━━━━━━━━━━━━━━━━━━\u001b[0m\u001b[37m\u001b[0m \u001b[1m4s\u001b[0m 2ms/step - accuracy: 0.9428 - loss: 0.1536\n",
            "Epoch 6/50\n",
            "\u001b[1m1875/1875\u001b[0m \u001b[32m━━━━━━━━━━━━━━━━━━━━\u001b[0m\u001b[37m\u001b[0m \u001b[1m5s\u001b[0m 3ms/step - accuracy: 0.9557 - loss: 0.1222\n",
            "Epoch 7/50\n",
            "\u001b[1m1875/1875\u001b[0m \u001b[32m━━━━━━━━━━━━━━━━━━━━\u001b[0m\u001b[37m\u001b[0m \u001b[1m5s\u001b[0m 2ms/step - accuracy: 0.9637 - loss: 0.1025\n",
            "Epoch 8/50\n",
            "\u001b[1m1875/1875\u001b[0m \u001b[32m━━━━━━━━━━━━━━━━━━━━\u001b[0m\u001b[37m\u001b[0m \u001b[1m4s\u001b[0m 2ms/step - accuracy: 0.9710 - loss: 0.0813\n",
            "Epoch 9/50\n",
            "\u001b[1m1875/1875\u001b[0m \u001b[32m━━━━━━━━━━━━━━━━━━━━\u001b[0m\u001b[37m\u001b[0m \u001b[1m5s\u001b[0m 3ms/step - accuracy: 0.9753 - loss: 0.0718\n",
            "Epoch 10/50\n",
            "\u001b[1m1875/1875\u001b[0m \u001b[32m━━━━━━━━━━━━━━━━━━━━\u001b[0m\u001b[37m\u001b[0m \u001b[1m4s\u001b[0m 2ms/step - accuracy: 0.9790 - loss: 0.0591\n",
            "Epoch 11/50\n",
            "\u001b[1m1875/1875\u001b[0m \u001b[32m━━━━━━━━━━━━━━━━━━━━\u001b[0m\u001b[37m\u001b[0m \u001b[1m5s\u001b[0m 2ms/step - accuracy: 0.9823 - loss: 0.0499\n",
            "Epoch 12/50\n",
            "\u001b[1m1875/1875\u001b[0m \u001b[32m━━━━━━━━━━━━━━━━━━━━\u001b[0m\u001b[37m\u001b[0m \u001b[1m5s\u001b[0m 3ms/step - accuracy: 0.9844 - loss: 0.0441\n",
            "Epoch 13/50\n",
            "\u001b[1m1875/1875\u001b[0m \u001b[32m━━━━━━━━━━━━━━━━━━━━\u001b[0m\u001b[37m\u001b[0m \u001b[1m5s\u001b[0m 2ms/step - accuracy: 0.9886 - loss: 0.0329\n",
            "Epoch 14/50\n",
            "\u001b[1m1875/1875\u001b[0m \u001b[32m━━━━━━━━━━━━━━━━━━━━\u001b[0m\u001b[37m\u001b[0m \u001b[1m4s\u001b[0m 2ms/step - accuracy: 0.9888 - loss: 0.0320\n",
            "Epoch 15/50\n",
            "\u001b[1m1875/1875\u001b[0m \u001b[32m━━━━━━━━━━━━━━━━━━━━\u001b[0m\u001b[37m\u001b[0m \u001b[1m6s\u001b[0m 2ms/step - accuracy: 0.9911 - loss: 0.0271\n",
            "Epoch 16/50\n",
            "\u001b[1m1875/1875\u001b[0m \u001b[32m━━━━━━━━━━━━━━━━━━━━\u001b[0m\u001b[37m\u001b[0m \u001b[1m5s\u001b[0m 2ms/step - accuracy: 0.9920 - loss: 0.0230\n",
            "Epoch 17/50\n",
            "\u001b[1m1875/1875\u001b[0m \u001b[32m━━━━━━━━━━━━━━━━━━━━\u001b[0m\u001b[37m\u001b[0m \u001b[1m6s\u001b[0m 3ms/step - accuracy: 0.9927 - loss: 0.0213\n",
            "Epoch 18/50\n",
            "\u001b[1m1875/1875\u001b[0m \u001b[32m━━━━━━━━━━━━━━━━━━━━\u001b[0m\u001b[37m\u001b[0m \u001b[1m4s\u001b[0m 2ms/step - accuracy: 0.9938 - loss: 0.0194\n",
            "Epoch 19/50\n",
            "\u001b[1m1875/1875\u001b[0m \u001b[32m━━━━━━━━━━━━━━━━━━━━\u001b[0m\u001b[37m\u001b[0m \u001b[1m5s\u001b[0m 2ms/step - accuracy: 0.9948 - loss: 0.0164\n",
            "Epoch 20/50\n",
            "\u001b[1m1875/1875\u001b[0m \u001b[32m━━━━━━━━━━━━━━━━━━━━\u001b[0m\u001b[37m\u001b[0m \u001b[1m5s\u001b[0m 2ms/step - accuracy: 0.9938 - loss: 0.0187\n",
            "Epoch 21/50\n",
            "\u001b[1m1875/1875\u001b[0m \u001b[32m━━━━━━━━━━━━━━━━━━━━\u001b[0m\u001b[37m\u001b[0m \u001b[1m4s\u001b[0m 2ms/step - accuracy: 0.9949 - loss: 0.0153\n",
            "Epoch 22/50\n",
            "\u001b[1m1875/1875\u001b[0m \u001b[32m━━━━━━━━━━━━━━━━━━━━\u001b[0m\u001b[37m\u001b[0m \u001b[1m6s\u001b[0m 3ms/step - accuracy: 0.9938 - loss: 0.0198\n",
            "Epoch 23/50\n",
            "\u001b[1m1875/1875\u001b[0m \u001b[32m━━━━━━━━━━━━━━━━━━━━\u001b[0m\u001b[37m\u001b[0m \u001b[1m5s\u001b[0m 2ms/step - accuracy: 0.9956 - loss: 0.0131\n",
            "Epoch 24/50\n",
            "\u001b[1m1875/1875\u001b[0m \u001b[32m━━━━━━━━━━━━━━━━━━━━\u001b[0m\u001b[37m\u001b[0m \u001b[1m6s\u001b[0m 3ms/step - accuracy: 0.9973 - loss: 0.0092\n",
            "Epoch 25/50\n",
            "\u001b[1m1875/1875\u001b[0m \u001b[32m━━━━━━━━━━━━━━━━━━━━\u001b[0m\u001b[37m\u001b[0m \u001b[1m5s\u001b[0m 3ms/step - accuracy: 0.9931 - loss: 0.0215\n",
            "Epoch 26/50\n",
            "\u001b[1m1875/1875\u001b[0m \u001b[32m━━━━━━━━━━━━━━━━━━━━\u001b[0m\u001b[37m\u001b[0m \u001b[1m4s\u001b[0m 2ms/step - accuracy: 0.9971 - loss: 0.0095\n",
            "Epoch 27/50\n",
            "\u001b[1m1875/1875\u001b[0m \u001b[32m━━━━━━━━━━━━━━━━━━━━\u001b[0m\u001b[37m\u001b[0m \u001b[1m6s\u001b[0m 3ms/step - accuracy: 0.9963 - loss: 0.0112\n",
            "Epoch 28/50\n",
            "\u001b[1m1875/1875\u001b[0m \u001b[32m━━━━━━━━━━━━━━━━━━━━\u001b[0m\u001b[37m\u001b[0m \u001b[1m4s\u001b[0m 2ms/step - accuracy: 0.9958 - loss: 0.0120\n",
            "Epoch 29/50\n",
            "\u001b[1m1875/1875\u001b[0m \u001b[32m━━━━━━━━━━━━━━━━━━━━\u001b[0m\u001b[37m\u001b[0m \u001b[1m4s\u001b[0m 2ms/step - accuracy: 0.9971 - loss: 0.0080\n",
            "Epoch 30/50\n",
            "\u001b[1m1875/1875\u001b[0m \u001b[32m━━━━━━━━━━━━━━━━━━━━\u001b[0m\u001b[37m\u001b[0m \u001b[1m6s\u001b[0m 3ms/step - accuracy: 0.9969 - loss: 0.0103\n",
            "Epoch 31/50\n",
            "\u001b[1m1875/1875\u001b[0m \u001b[32m━━━━━━━━━━━━━━━━━━━━\u001b[0m\u001b[37m\u001b[0m \u001b[1m4s\u001b[0m 2ms/step - accuracy: 0.9964 - loss: 0.0115\n",
            "Epoch 32/50\n",
            "\u001b[1m1875/1875\u001b[0m \u001b[32m━━━━━━━━━━━━━━━━━━━━\u001b[0m\u001b[37m\u001b[0m \u001b[1m4s\u001b[0m 2ms/step - accuracy: 0.9964 - loss: 0.0106\n",
            "Epoch 33/50\n",
            "\u001b[1m1875/1875\u001b[0m \u001b[32m━━━━━━━━━━━━━━━━━━━━\u001b[0m\u001b[37m\u001b[0m \u001b[1m5s\u001b[0m 3ms/step - accuracy: 0.9979 - loss: 0.0071\n",
            "Epoch 34/50\n",
            "\u001b[1m1875/1875\u001b[0m \u001b[32m━━━━━━━━━━━━━━━━━━━━\u001b[0m\u001b[37m\u001b[0m \u001b[1m4s\u001b[0m 2ms/step - accuracy: 0.9975 - loss: 0.0085\n",
            "Epoch 35/50\n",
            "\u001b[1m1875/1875\u001b[0m \u001b[32m━━━━━━━━━━━━━━━━━━━━\u001b[0m\u001b[37m\u001b[0m \u001b[1m4s\u001b[0m 2ms/step - accuracy: 0.9963 - loss: 0.0127\n",
            "Epoch 36/50\n",
            "\u001b[1m1875/1875\u001b[0m \u001b[32m━━━━━━━━━━━━━━━━━━━━\u001b[0m\u001b[37m\u001b[0m \u001b[1m6s\u001b[0m 2ms/step - accuracy: 0.9983 - loss: 0.0051\n",
            "Epoch 37/50\n",
            "\u001b[1m1875/1875\u001b[0m \u001b[32m━━━━━━━━━━━━━━━━━━━━\u001b[0m\u001b[37m\u001b[0m \u001b[1m4s\u001b[0m 2ms/step - accuracy: 0.9971 - loss: 0.0083\n",
            "Epoch 38/50\n",
            "\u001b[1m1875/1875\u001b[0m \u001b[32m━━━━━━━━━━━━━━━━━━━━\u001b[0m\u001b[37m\u001b[0m \u001b[1m6s\u001b[0m 3ms/step - accuracy: 0.9975 - loss: 0.0084\n",
            "Epoch 39/50\n",
            "\u001b[1m1875/1875\u001b[0m \u001b[32m━━━━━━━━━━━━━━━━━━━━\u001b[0m\u001b[37m\u001b[0m \u001b[1m5s\u001b[0m 2ms/step - accuracy: 0.9963 - loss: 0.0106\n",
            "Epoch 40/50\n",
            "\u001b[1m1875/1875\u001b[0m \u001b[32m━━━━━━━━━━━━━━━━━━━━\u001b[0m\u001b[37m\u001b[0m \u001b[1m5s\u001b[0m 2ms/step - accuracy: 0.9974 - loss: 0.0087\n",
            "Epoch 41/50\n",
            "\u001b[1m1875/1875\u001b[0m \u001b[32m━━━━━━━━━━━━━━━━━━━━\u001b[0m\u001b[37m\u001b[0m \u001b[1m5s\u001b[0m 2ms/step - accuracy: 0.9955 - loss: 0.0140\n",
            "Epoch 42/50\n",
            "\u001b[1m1875/1875\u001b[0m \u001b[32m━━━━━━━━━━━━━━━━━━━━\u001b[0m\u001b[37m\u001b[0m \u001b[1m5s\u001b[0m 2ms/step - accuracy: 0.9968 - loss: 0.0094\n",
            "Epoch 43/50\n",
            "\u001b[1m1875/1875\u001b[0m \u001b[32m━━━━━━━━━━━━━━━━━━━━\u001b[0m\u001b[37m\u001b[0m \u001b[1m5s\u001b[0m 2ms/step - accuracy: 0.9974 - loss: 0.0111\n",
            "Epoch 44/50\n",
            "\u001b[1m1875/1875\u001b[0m \u001b[32m━━━━━━━━━━━━━━━━━━━━\u001b[0m\u001b[37m\u001b[0m \u001b[1m4s\u001b[0m 2ms/step - accuracy: 0.9982 - loss: 0.0064\n",
            "Epoch 45/50\n",
            "\u001b[1m1875/1875\u001b[0m \u001b[32m━━━━━━━━━━━━━━━━━━━━\u001b[0m\u001b[37m\u001b[0m \u001b[1m5s\u001b[0m 2ms/step - accuracy: 0.9979 - loss: 0.0071\n",
            "Epoch 46/50\n",
            "\u001b[1m1875/1875\u001b[0m \u001b[32m━━━━━━━━━━━━━━━━━━━━\u001b[0m\u001b[37m\u001b[0m \u001b[1m6s\u001b[0m 3ms/step - accuracy: 0.9978 - loss: 0.0065\n",
            "Epoch 47/50\n",
            "\u001b[1m1875/1875\u001b[0m \u001b[32m━━━━━━━━━━━━━━━━━━━━\u001b[0m\u001b[37m\u001b[0m \u001b[1m4s\u001b[0m 2ms/step - accuracy: 0.9968 - loss: 0.0103\n",
            "Epoch 48/50\n",
            "\u001b[1m1875/1875\u001b[0m \u001b[32m━━━━━━━━━━━━━━━━━━━━\u001b[0m\u001b[37m\u001b[0m \u001b[1m4s\u001b[0m 2ms/step - accuracy: 0.9981 - loss: 0.0054\n",
            "Epoch 49/50\n",
            "\u001b[1m1875/1875\u001b[0m \u001b[32m━━━━━━━━━━━━━━━━━━━━\u001b[0m\u001b[37m\u001b[0m \u001b[1m5s\u001b[0m 3ms/step - accuracy: 0.9976 - loss: 0.0075\n",
            "Epoch 50/50\n",
            "\u001b[1m1875/1875\u001b[0m \u001b[32m━━━━━━━━━━━━━━━━━━━━\u001b[0m\u001b[37m\u001b[0m \u001b[1m4s\u001b[0m 2ms/step - accuracy: 0.9973 - loss: 0.0101\n"
          ]
        },
        {
          "output_type": "execute_result",
          "data": {
            "text/plain": [
              "<keras.src.callbacks.history.History at 0x7b6965a27b20>"
            ]
          },
          "metadata": {},
          "execution_count": 7
        }
      ]
    },
    {
      "cell_type": "code",
      "source": [
        "modelo_v4.evaluate(X_test, y_test)"
      ],
      "metadata": {
        "colab": {
          "base_uri": "https://localhost:8080/"
        },
        "id": "DwAiZzeP9nKZ",
        "outputId": "67d67fd8-f1e4-4b1e-e59a-e97bf1a56750"
      },
      "execution_count": 8,
      "outputs": [
        {
          "output_type": "stream",
          "name": "stdout",
          "text": [
            "\u001b[1m313/313\u001b[0m \u001b[32m━━━━━━━━━━━━━━━━━━━━\u001b[0m\u001b[37m\u001b[0m \u001b[1m2s\u001b[0m 4ms/step - accuracy: 0.9073 - loss: 0.9333\n"
          ]
        },
        {
          "output_type": "execute_result",
          "data": {
            "text/plain": [
              "[0.9008244276046753, 0.9103000164031982]"
            ]
          },
          "metadata": {},
          "execution_count": 8
        }
      ]
    },
    {
      "cell_type": "code",
      "source": [
        "imagen = 500\n",
        "\n",
        "labels = {\n",
        "    0: \"Remera\",\n",
        "    1: \"Pantalones\",\n",
        "    2: \"Sueters\",\n",
        "    3: \"Vestidos\",\n",
        "    4: \"Abrigo\",\n",
        "    5: \"Sandalias\",\n",
        "    6: \"Camisas\",\n",
        "    7: \"Zapatillas\",\n",
        "    8: \"Bolso\",\n",
        "    9: \"Botas\"\n",
        "}\n",
        "\n",
        "np.set_printoptions(linewidth=320)\n",
        "print(X_train[imagen])\n",
        "print(\"Label \" + labels[y_train[imagen]])\n",
        "\n",
        "plt.imshow(X_train[imagen])\n",
        "plt.colorbar()\n",
        "plt.show()"
      ],
      "metadata": {
        "colab": {
          "base_uri": "https://localhost:8080/",
          "height": 958
        },
        "id": "9pGHO5ji98n1",
        "outputId": "790e59cf-14b4-494e-9772-ff8ed2e85e3d"
      },
      "execution_count": 10,
      "outputs": [
        {
          "output_type": "stream",
          "name": "stdout",
          "text": [
            "[[0.         0.         0.         0.         0.         0.         0.         0.01176471 0.         0.         0.         0.0745098  0.8        0.36470588 0.1372549  0.35686275 0.89019608 0.35686275 0.         0.         0.         0.01176471 0.         0.         0.         0.         0.         0.        ]\n",
            " [0.         0.         0.         0.         0.         0.         0.00784314 0.         0.         0.5254902  0.82352941 0.92941176 0.94509804 0.94509804 1.         0.96078431 0.93333333 0.94509804 0.97254902 0.43529412 0.         0.         0.01176471 0.         0.         0.         0.         0.        ]\n",
            " [0.         0.         0.         0.         0.         0.         0.         0.         0.68627451 0.99607843 0.92156863 0.91372549 0.90980392 0.88235294 0.89019608 0.88627451 0.89803922 0.90588235 0.9254902  0.98039216 0.78431373 0.         0.         0.         0.         0.         0.         0.        ]\n",
            " [0.         0.         0.         0.         0.         0.         0.         0.00784314 0.94117647 0.89803922 0.89411765 0.85882353 0.84313725 0.92156863 0.89803922 0.91764706 0.85098039 0.77647059 0.87058824 0.8627451  1.         0.39607843 0.         0.         0.         0.         0.         0.        ]\n",
            " [0.         0.         0.         0.         0.         0.         0.         0.18039216 0.96470588 0.9254902  0.74117647 0.67843137 0.83137255 0.94117647 0.88627451 0.9372549  0.82352941 0.59607843 0.69411765 0.87058824 0.97647059 0.66666667 0.         0.         0.         0.         0.         0.        ]\n",
            " [0.         0.         0.         0.         0.         0.         0.         0.38039216 1.         0.91372549 0.88627451 0.90588235 0.92941176 0.90196078 0.90588235 0.90588235 0.9254902  0.94509804 0.90980392 0.90588235 0.96078431 0.82352941 0.         0.         0.         0.         0.         0.        ]\n",
            " [0.         0.         0.         0.         0.         0.         0.         0.58823529 0.98823529 0.91764706 0.9372549  0.90980392 0.89411765 0.89411765 0.89803922 0.89411765 0.89411765 0.91372549 0.94901961 0.9254902  0.95294118 0.91372549 0.         0.         0.         0.         0.         0.        ]\n",
            " [0.         0.         0.         0.         0.         0.         0.         0.76470588 0.97647059 0.91764706 0.95294118 0.91764706 0.90980392 0.90588235 0.90196078 0.90196078 0.89803922 0.91764706 0.94901961 0.89019608 0.9372549  0.85882353 0.         0.         0.         0.         0.         0.        ]\n",
            " [0.         0.         0.         0.         0.         0.         0.         0.89411765 0.97254902 0.8627451  0.89803922 0.96470588 0.90196078 0.90588235 0.90588235 0.90588235 0.89803922 0.95686275 0.90588235 0.63921569 0.95294118 0.93333333 0.         0.         0.         0.         0.         0.        ]\n",
            " [0.         0.         0.         0.         0.         0.         0.         0.87843137 0.96078431 0.81176471 0.72156863 0.99215686 0.89019608 0.89411765 0.89803922 0.90196078 0.88627451 1.         0.75686275 0.45490196 0.96862745 0.94509804 0.18431373 0.         0.         0.         0.         0.        ]\n",
            " [0.         0.         0.         0.         0.         0.         0.0745098  0.94117647 0.96862745 0.74117647 0.57254902 1.         0.89019608 0.90588235 0.90588235 0.90980392 0.89019608 1.         0.69803922 0.44705882 0.98039216 0.95294118 0.40392157 0.         0.         0.         0.         0.        ]\n",
            " [0.         0.         0.         0.         0.         0.         0.23921569 0.95294118 0.96470588 0.67843137 0.51764706 1.         0.87843137 0.89411765 0.90588235 0.90980392 0.87843137 1.         0.61176471 0.31372549 1.         0.96078431 0.5254902  0.         0.         0.         0.         0.        ]\n",
            " [0.         0.         0.         0.         0.         0.         0.41960784 0.96862745 0.96078431 0.68627451 0.74509804 0.99607843 0.89803922 0.90196078 0.88235294 0.88627451 0.89411765 1.         0.8        0.4745098  1.         0.95294118 0.61960784 0.         0.         0.         0.         0.        ]\n",
            " [0.         0.         0.         0.         0.         0.         0.55294118 0.97254902 0.94509804 0.83921569 0.89803922 0.94117647 0.9254902  0.92941176 0.92156863 0.9254902  0.9254902  1.         0.85490196 0.48235294 1.         0.97647059 0.70980392 0.         0.         0.         0.         0.        ]\n",
            " [0.         0.         0.         0.         0.         0.         0.65490196 1.         0.95294118 0.95294118 0.9254902  0.92156863 0.92156863 0.90588235 0.91764706 0.92156863 0.90588235 0.90980392 0.9254902  0.76470588 1.         0.98431373 0.7254902  0.         0.         0.         0.         0.        ]\n",
            " [0.         0.         0.         0.         0.         0.         0.72941176 0.99607843 0.96862745 0.93333333 0.89411765 0.88235294 0.89411765 0.89411765 0.89803922 0.90588235 0.89411765 0.8745098  0.90588235 1.         0.98823529 0.97254902 0.78431373 0.         0.         0.         0.         0.        ]\n",
            " [0.         0.         0.         0.         0.         0.         0.80784314 0.98431373 0.98823529 0.91764706 0.89803922 0.89019608 0.89803922 0.90196078 0.90196078 0.90980392 0.90588235 0.89019608 0.89019608 0.9372549  0.98431373 0.96862745 0.82352941 0.         0.         0.         0.         0.        ]\n",
            " [0.         0.         0.         0.         0.         0.         0.85490196 0.97254902 0.99607843 0.91372549 0.90980392 0.90980392 0.91372549 0.91372549 0.91372549 0.92156863 0.91372549 0.91372549 0.92156863 0.94117647 0.98823529 0.98431373 0.82745098 0.         0.         0.         0.         0.        ]\n",
            " [0.         0.         0.         0.         0.         0.         0.87843137 0.96078431 0.98823529 0.9254902  0.93333333 0.9254902  0.93333333 0.93333333 0.93333333 0.9372549  0.93333333 0.93333333 0.92941176 0.9254902  0.98039216 0.98431373 0.87058824 0.         0.         0.         0.         0.        ]\n",
            " [0.         0.         0.         0.         0.         0.         0.88235294 0.94117647 0.95686275 0.91764706 0.89803922 0.90196078 0.90980392 0.90980392 0.90196078 0.90196078 0.90588235 0.90196078 0.90980392 0.92156863 0.96078431 0.94509804 0.88627451 0.         0.         0.         0.         0.        ]\n",
            " [0.         0.         0.         0.         0.         0.         0.93333333 1.         0.97254902 0.91764706 0.9254902  0.9254902  0.92941176 0.92941176 0.9254902  0.9254902  0.9254902  0.91764706 0.92156863 0.92941176 0.98823529 1.         0.91372549 0.         0.         0.         0.         0.        ]\n",
            " [0.         0.         0.         0.         0.         0.         0.21960784 0.1254902  0.61960784 0.97254902 0.89411765 0.9254902  0.92941176 0.92941176 0.92941176 0.92941176 0.92941176 0.9254902  0.90588235 0.97254902 0.54901961 0.15686275 0.12156863 0.         0.         0.         0.         0.        ]\n",
            " [0.         0.         0.         0.         0.         0.         0.         0.         0.54117647 0.99607843 0.89803922 0.92156863 0.91764706 0.91764706 0.92156863 0.92156863 0.9254902  0.92156863 0.90980392 1.         0.38431373 0.         0.         0.         0.         0.         0.         0.        ]\n",
            " [0.         0.         0.         0.         0.         0.         0.01568627 0.         0.69803922 1.         0.92156863 0.94509804 0.9372549  0.94117647 0.94509804 0.94509804 0.94509804 0.93333333 0.91372549 1.         0.54509804 0.         0.01960784 0.         0.         0.         0.         0.        ]\n",
            " [0.         0.         0.         0.         0.         0.         0.         0.         0.70588235 0.99607843 0.91372549 0.92941176 0.92941176 0.92941176 0.93333333 0.9372549  0.9372549  0.9254902  0.91372549 1.         0.55686275 0.         0.00784314 0.         0.         0.         0.         0.        ]\n",
            " [0.         0.         0.         0.         0.         0.         0.         0.         0.69803922 0.99607843 0.89803922 0.90980392 0.90980392 0.91372549 0.9254902  0.9254902  0.91764706 0.91372549 0.90196078 1.         0.58431373 0.         0.01568627 0.         0.         0.         0.         0.        ]\n",
            " [0.         0.         0.         0.         0.         0.         0.00392157 0.         0.70196078 1.         0.91764706 0.96862745 0.92941176 0.92156863 0.92941176 0.94509804 0.94117647 0.95686275 0.92941176 1.         0.69019608 0.         0.00784314 0.         0.         0.         0.         0.        ]\n",
            " [0.         0.         0.         0.         0.         0.         0.         0.         0.60784314 0.93333333 0.78431373 0.72156863 0.84313725 0.86666667 0.82745098 0.84705882 0.84313725 0.84705882 0.74901961 0.81176471 0.6        0.         0.         0.         0.         0.         0.         0.        ]]\n",
            "Label Vestidos\n"
          ]
        },
        {
          "output_type": "display_data",
          "data": {
            "text/plain": [
              "<Figure size 640x480 with 2 Axes>"
            ],
            "image/png": "[encoded data removed]"
          },
          "metadata": {}
        }
      ]
    }
  ]
}